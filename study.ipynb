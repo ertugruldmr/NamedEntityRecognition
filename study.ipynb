{
  "cells": [
    {
      "cell_type": "markdown",
      "metadata": {
        "id": "Pg7F_o3VCuJx"
      },
      "source": [
        "# (A) Dependencies"
      ]
    },
    {
      "cell_type": "code",
      "source": [
        "import os\n",
        "import numpy as np\n",
        "import tensorflow as tf\n",
        "from tensorflow import keras\n",
        "from tensorflow.keras import layers\n",
        "from collections import Counter\n",
        "\n",
        "if os.system(\"pip freeze | grep dataset==\")!=0: os.system(\"pip install datasets\")\n",
        "if os.system(\"pip freeze | grep conlleval==\")!=0: os.system(\"pip install conlleval\")\n",
        "\n",
        "from datasets import load_dataset\n",
        "from conlleval import evaluate"
      ],
      "metadata": {
        "id": "MK1m33ZpzRBm"
      },
      "execution_count": 33,
      "outputs": []
    },
    {
      "cell_type": "markdown",
      "source": [
        "# (B) Dataset"
      ],
      "metadata": {
        "id": "_ZhBtu9fJf-R"
      }
    },
    {
      "cell_type": "markdown",
      "source": [
        "## Downloading the dataset\n",
        "- [dataset source](https://www.clips.uantwerpen.be/conll2003/ner/)"
      ],
      "metadata": {
        "id": "uvDDFfQGIpV_"
      }
    },
    {
      "cell_type": "code",
      "source": [
        "#!pip install datasets\n",
        "!wget https://raw.githubusercontent.com/sighsmile/conlleval/master/conlleval.py"
      ],
      "metadata": {
        "colab": {
          "base_uri": "https://localhost:8080/"
        },
        "id": "Eo5RmDEUzugG",
        "outputId": "3da01df1-c7ae-4aa5-f2b6-56ab4c4f9051"
      },
      "execution_count": 34,
      "outputs": [
        {
          "output_type": "stream",
          "name": "stdout",
          "text": [
            "--2023-03-24 02:18:50--  https://raw.githubusercontent.com/sighsmile/conlleval/master/conlleval.py\n",
            "Resolving raw.githubusercontent.com (raw.githubusercontent.com)... 185.199.108.133, 185.199.109.133, 185.199.110.133, ...\n",
            "Connecting to raw.githubusercontent.com (raw.githubusercontent.com)|185.199.108.133|:443... connected.\n",
            "HTTP request sent, awaiting response... 200 OK\n",
            "Length: 7502 (7.3K) [text/plain]\n",
            "Saving to: ‘conlleval.py’\n",
            "\n",
            "\rconlleval.py          0%[                    ]       0  --.-KB/s               \rconlleval.py        100%[===================>]   7.33K  --.-KB/s    in 0s      \n",
            "\n",
            "2023-03-24 02:18:50 (95.4 MB/s) - ‘conlleval.py’ saved [7502/7502]\n",
            "\n"
          ]
        }
      ]
    },
    {
      "cell_type": "code",
      "source": [
        "!ls"
      ],
      "metadata": {
        "colab": {
          "base_uri": "https://localhost:8080/"
        },
        "id": "JHBHRM-TK_Z8",
        "outputId": "a7c46c3c-d654-4db9-ed4f-cb93bc80945b"
      },
      "execution_count": 35,
      "outputs": [
        {
          "output_type": "stream",
          "name": "stdout",
          "text": [
            "conlleval.py  flagged  ner_model  ner_model.zip  sample_data\n"
          ]
        }
      ]
    },
    {
      "cell_type": "markdown",
      "source": [
        "## Loading the dataset\n"
      ],
      "metadata": {
        "id": "jRRH2Ukxz-CX"
      }
    },
    {
      "cell_type": "code",
      "source": [
        "conll_data = load_dataset(\"conll2003\")"
      ],
      "metadata": {
        "colab": {
          "base_uri": "https://localhost:8080/",
          "height": 244,
          "referenced_widgets": [
            "617b385c1b1c4138ae2f115cfc5d25d1",
            "3e3122943d3e4da4a02b837896587309",
            "9cfafa735c9a45d88bc98f173643f8b5",
            "e5d3020b80d94aedae206b0c2eef30a1",
            "527c76fee3bc479b85ada754d76cd1c4",
            "74f20cf3a00d443a88101042cf0e5c6d",
            "3c21f81065214d1e8590846a4f11ed52",
            "e57ec221d3b24c8d836f8e4944872f17",
            "b82cfccd9ef54b3d929d0c93d4a60d53",
            "0599e029eb53443ebab578b97c65e5eb",
            "e42d9a3738b84d8795a387f772b76f82",
            "6e7d563350754022a81963c1f2ada019",
            "171ea0ef11384724801810cbaa5d0b4e",
            "ba17662164ba42b7ad07cf5e13327518",
            "67f8268e9d5c49278cfd231cfa48a210",
            "3c6cfaec20a04f1ba5c426aefc7779b0",
            "253332172301433aa2d785e8dcc8805c",
            "47d59095fb554eefb91a97bd34148224",
            "d7f4529cdfef4853977f7d2f0160eb1c",
            "f4595d726b754125b3f046db1b4e91c0",
            "a850f218e62841b39aa12871b8fa9ad6",
            "4f500eee94564b81b402981c7aa317d6",
            "36483763189044368d84e01f4155edf1",
            "8ee0cc414cf74ef7a2d7e8b9bac518f3",
            "0d3570ff34ac454f892a1008a14b61a9",
            "7c4fc77fbb994df0adbea7bbd0b40699",
            "f15977a256ec438298b41022e810b70a",
            "f625c233093d46c88bdb23c5dde92e88",
            "f049cfb762944af39ad40b0606d51ac5",
            "92e13e2a1ce44381b05dd8c47e55fd6a",
            "16f6bf1969f74a9abf626bb5e5cb0155",
            "aaba5c5723384b64bf63387158f31885",
            "a9e111cbcbc54b629ac73547b8e7d3e8",
            "bebe56cf7c514790986887add72420db",
            "c16c5d3a6206482bb0d1d8d1978c5a34",
            "7b5eaeee574f4de8aa1af8ed65ad25b8",
            "9e874928726e427cacdb2af4b4031f5a",
            "e860d572bfd848d38dbebf8166af2832",
            "bab0b31488bc400f8ca9a7703922b344",
            "911bdb2fc33f4af8a6b1b5eca1778579",
            "cad6bee0f40c40cc90e57ee82c1278f7",
            "ffe5548ae2714a8ba014c05346936f21",
            "2704bc1dbb584ae19a5c58f9610cc6c6",
            "44a2e6864aa947e59e8783695d0dec5c",
            "ff710f6f09ce4005a1483f6aa4cdc7ee",
            "dc6678cd46404bee8b2125a7bac86e33",
            "d3142fc8adb64cfcaae1d30d70090076",
            "bef722c18b6e41b1969de303f35aebc2",
            "de693c0434df45a5a508d64f8ca84adf",
            "e4e0892fadb142b8b3ddac16454ed8a4",
            "35b795330ff2430a9235a94f1f1adc5d",
            "bd034814f5324f609baa45f9be723405",
            "eef3a63476ac4701b8ee9410d5c85d87",
            "3c05fbaf564549609cccf31a40cd271b",
            "110ceaf607d14356a820a9d0fd172d16",
            "80bddcda1a984abfb0b79e4d33242e81",
            "3fa97ddb146549d1843ed6bde2f934e8",
            "161980b0c10a4eb3ac7fedc13b99a5ba",
            "3803abe64b484ed5ba1e8782c2b90ca2",
            "f081fe5da509484897bbab9d7306b88f",
            "173bec3d42ab410a905b6399a8d217ec",
            "73a5a7a47b6f40d3aaf811f519e10188",
            "531cfca0b83e4de89f1ef87556c285df",
            "b4a5f9f60bee40608c9e122ef7d75aab",
            "4046fa94a4904637902f1f476e821336",
            "e4fefdeba2bd4c4aa5794301aeecddf0",
            "6f37043faad84687b073cc3faa81c31b",
            "4bf5921786f544e1ba3906d75fce5826",
            "5c86b511636e4b8d9f80bc1c32c7e29b",
            "50684b49782643dea09211aff38b47b1",
            "c49709faf049416f956bd5917e3afbb2",
            "d2bdcd8b80e145a59019c81b718e64cd",
            "1eebc57543b540e0b4ae368274b5b2a7",
            "81120a0372e6443d95ec95c2a923540e",
            "bdf52322c6564aecbc5214144548b09e",
            "ce92ff7aaa104b5ab3781c30b20f8b6c",
            "204af41423504df1b91cd231887bc4e9",
            "2303941fc3c2438c808eeb5fe40c1010",
            "cad11c0969ae4b929bb79fc5e113fceb",
            "bc67cfad5f994bccbe2d2b0ccdbeb33f",
            "e8c644bbdde14b46b56b147d2efde2f9",
            "6a0a75fa1f7d4a6ba8fc968ffafdd8a9",
            "306445879cfd4b26847ead9360b17c39",
            "e674808bd69a43dba20f05a9bff946fe",
            "ce92ffec05e34c71bc597c283c12c001",
            "64637ba13648480e8745177527672f09",
            "3d131244c053457e9def11c7faa3e6b2",
            "383f5eefb8aa46ec9d8e77469d958757"
          ]
        },
        "id": "-KJsKcCVzx9B",
        "outputId": "c71595be-cb03-4f2d-d414-0039a0dfe619"
      },
      "execution_count": 36,
      "outputs": [
        {
          "output_type": "display_data",
          "data": {
            "text/plain": [
              "Downloading builder script:   0%|          | 0.00/9.57k [00:00<?, ?B/s]"
            ],
            "application/vnd.jupyter.widget-view+json": {
              "version_major": 2,
              "version_minor": 0,
              "model_id": "617b385c1b1c4138ae2f115cfc5d25d1"
            }
          },
          "metadata": {}
        },
        {
          "output_type": "display_data",
          "data": {
            "text/plain": [
              "Downloading metadata:   0%|          | 0.00/3.73k [00:00<?, ?B/s]"
            ],
            "application/vnd.jupyter.widget-view+json": {
              "version_major": 2,
              "version_minor": 0,
              "model_id": "6e7d563350754022a81963c1f2ada019"
            }
          },
          "metadata": {}
        },
        {
          "output_type": "display_data",
          "data": {
            "text/plain": [
              "Downloading readme:   0%|          | 0.00/12.3k [00:00<?, ?B/s]"
            ],
            "application/vnd.jupyter.widget-view+json": {
              "version_major": 2,
              "version_minor": 0,
              "model_id": "36483763189044368d84e01f4155edf1"
            }
          },
          "metadata": {}
        },
        {
          "output_type": "stream",
          "name": "stdout",
          "text": [
            "Downloading and preparing dataset conll2003/conll2003 to /root/.cache/huggingface/datasets/conll2003/conll2003/1.0.0/9a4d16a94f8674ba3466315300359b0acd891b68b6c8743ddf60b9c702adce98...\n"
          ]
        },
        {
          "output_type": "display_data",
          "data": {
            "text/plain": [
              "Downloading data:   0%|          | 0.00/983k [00:00<?, ?B/s]"
            ],
            "application/vnd.jupyter.widget-view+json": {
              "version_major": 2,
              "version_minor": 0,
              "model_id": "bebe56cf7c514790986887add72420db"
            }
          },
          "metadata": {}
        },
        {
          "output_type": "display_data",
          "data": {
            "text/plain": [
              "Generating train split:   0%|          | 0/14041 [00:00<?, ? examples/s]"
            ],
            "application/vnd.jupyter.widget-view+json": {
              "version_major": 2,
              "version_minor": 0,
              "model_id": "ff710f6f09ce4005a1483f6aa4cdc7ee"
            }
          },
          "metadata": {}
        },
        {
          "output_type": "display_data",
          "data": {
            "text/plain": [
              "Generating validation split:   0%|          | 0/3250 [00:00<?, ? examples/s]"
            ],
            "application/vnd.jupyter.widget-view+json": {
              "version_major": 2,
              "version_minor": 0,
              "model_id": "80bddcda1a984abfb0b79e4d33242e81"
            }
          },
          "metadata": {}
        },
        {
          "output_type": "display_data",
          "data": {
            "text/plain": [
              "Generating test split:   0%|          | 0/3453 [00:00<?, ? examples/s]"
            ],
            "application/vnd.jupyter.widget-view+json": {
              "version_major": 2,
              "version_minor": 0,
              "model_id": "6f37043faad84687b073cc3faa81c31b"
            }
          },
          "metadata": {}
        },
        {
          "output_type": "stream",
          "name": "stdout",
          "text": [
            "Dataset conll2003 downloaded and prepared to /root/.cache/huggingface/datasets/conll2003/conll2003/1.0.0/9a4d16a94f8674ba3466315300359b0acd891b68b6c8743ddf60b9c702adce98. Subsequent calls will reuse this data.\n"
          ]
        },
        {
          "output_type": "display_data",
          "data": {
            "text/plain": [
              "  0%|          | 0/3 [00:00<?, ?it/s]"
            ],
            "application/vnd.jupyter.widget-view+json": {
              "version_major": 2,
              "version_minor": 0,
              "model_id": "2303941fc3c2438c808eeb5fe40c1010"
            }
          },
          "metadata": {}
        }
      ]
    },
    {
      "cell_type": "markdown",
      "source": [
        "# (C) Preprocessing"
      ],
      "metadata": {
        "id": "-IRe4o5p0m9a"
      }
    },
    {
      "cell_type": "markdown",
      "source": [
        "## Exporting the data splits as file"
      ],
      "metadata": {
        "id": "b1Oui7eZ0quE"
      }
    },
    {
      "cell_type": "code",
      "source": [
        "def export_to_file(export_file_path, data):\n",
        "    \n",
        "    # open a file \n",
        "    with open(export_file_path, \"w\") as f:\n",
        "        \n",
        "        # iterate whole data\n",
        "        for record in data:\n",
        "\n",
        "            # unpackage the data\n",
        "            ner_tags = record[\"ner_tags\"]\n",
        "            tokens = record[\"tokens\"]\n",
        "            \n",
        "            # write the data as convenient notation\n",
        "            if len(tokens) > 0:\n",
        "                \n",
        "                # notated data string\n",
        "                data = (\n",
        "                    str(len(tokens))\n",
        "                    + \"\\t\"\n",
        "                    + \"\\t\".join(tokens)\n",
        "                    + \"\\t\"\n",
        "                    + \"\\t\".join(map(str, ner_tags))\n",
        "                    + \"\\n\"\n",
        "                )\n",
        "\n",
        "                # writing the data into file\n",
        "                f.write(data)"
      ],
      "metadata": {
        "id": "lJKjOhyK0eu-"
      },
      "execution_count": 37,
      "outputs": []
    },
    {
      "cell_type": "code",
      "source": [
        "# Exporting the dataset spllits via saving as file\n",
        "if not os.path.exists(\"data\"):os.mkdir(\"data\")\n",
        "export_to_file(\"./data/conll_train.txt\", conll_data[\"train\"])\n",
        "export_to_file(\"./data/conll_val.txt\", conll_data[\"validation\"])"
      ],
      "metadata": {
        "id": "qV_BYfZK9i9I"
      },
      "execution_count": 38,
      "outputs": []
    },
    {
      "cell_type": "code",
      "source": [
        "# Loading the dataset splits\n",
        "train_data = tf.data.TextLineDataset(\"./data/conll_train.txt\")\n",
        "val_data = tf.data.TextLineDataset(\"./data/conll_val.txt\")"
      ],
      "metadata": {
        "id": "qz9W_DHo1alK"
      },
      "execution_count": 39,
      "outputs": []
    },
    {
      "cell_type": "markdown",
      "source": [
        "## Encoding table"
      ],
      "metadata": {
        "id": "qcHMYPZj1Ob1"
      }
    },
    {
      "cell_type": "code",
      "execution_count": 40,
      "metadata": {
        "colab": {
          "base_uri": "https://localhost:8080/"
        },
        "id": "aDFb_1fi1Kc4",
        "outputId": "0860086f-9d07-45d2-81ca-92cd9f041a06"
      },
      "outputs": [
        {
          "output_type": "stream",
          "name": "stdout",
          "text": [
            "{0: '[PAD]', 1: 'O', 2: 'B-PER', 3: 'I-PER', 4: 'B-ORG', 5: 'I-ORG', 6: 'B-LOC', 7: 'I-LOC', 8: 'B-MISC', 9: 'I-MISC'}\n"
          ]
        }
      ],
      "source": [
        "def make_tag_lookup_table():\n",
        "    # Defining the labels\n",
        "    iob_labels = [\"B\", \"I\"]\n",
        "    ner_labels = [\"PER\", \"ORG\", \"LOC\", \"MISC\"]\n",
        "    \n",
        "    # creating the unique  \n",
        "    all_labels = [(label1, label2) for label2 in ner_labels for label1 in iob_labels]\n",
        "    all_labels = [\"-\".join([a, b]) for a, b in all_labels]\n",
        "    all_labels = [\"[PAD]\", \"O\"] + all_labels\n",
        "    \n",
        "    # Numerating the tags via converting it into dict\n",
        "    lookup_dict = dict(zip(range(0, len(all_labels) + 1), all_labels))\n",
        "    \n",
        "    return lookup_dict\n",
        "\n",
        "\n",
        "mapping = make_tag_lookup_table()\n",
        "print(mapping)"
      ]
    },
    {
      "cell_type": "code",
      "source": [
        "# Finding out the dataset tag size\n",
        "all_tokens = sum(conll_data[\"train\"][\"tokens\"], [])\n",
        "all_tokens_array = np.array(list(map(str.lower, all_tokens)))\n",
        "\n",
        "counter = Counter(all_tokens_array)\n",
        "print(len(counter))\n",
        "\n",
        "num_tags = len(mapping)\n",
        "vocab_size = 20000\n",
        "\n",
        "num_tags, vocab_size"
      ],
      "metadata": {
        "colab": {
          "base_uri": "https://localhost:8080/",
          "height": 52
        },
        "id": "Ikj3WWMX_ONX",
        "outputId": "96eb3c08-e597-486f-e110-850fa95dbde8"
      },
      "execution_count": 41,
      "outputs": [
        {
          "output_type": "stream",
          "name": "stdout",
          "text": [
            "21009\n"
          ]
        },
        {
          "output_type": "execute_result",
          "data": {
            "text/plain": [
              "(10, 20000)"
            ]
          },
          "metadata": {},
          "execution_count": 41
        }
      ]
    },
    {
      "cell_type": "code",
      "execution_count": 80,
      "metadata": {
        "id": "ooqBuMDV1KdD"
      },
      "outputs": [],
      "source": [
        "# 2 additional tokens -> unknown and masking tokens (vocab_size - 2)\n",
        "vocabulary = [token for token, count in counter.most_common(vocab_size - 2)]\n",
        "\n",
        "# The StringLook class will convert tokens to token IDs\n",
        "lookup_layer = keras.layers.StringLookup(vocabulary=vocabulary)"
      ]
    },
    {
      "cell_type": "code",
      "source": [
        "vocabulary"
      ],
      "metadata": {
        "colab": {
          "base_uri": "https://localhost:8080/"
        },
        "id": "BerAl2KNaRTd",
        "outputId": "0340bf1e-934c-4b78-95ed-194384abdc77"
      },
      "execution_count": 82,
      "outputs": [
        {
          "output_type": "execute_result",
          "data": {
            "text/plain": [
              "['the',\n",
              " '.',\n",
              " ',',\n",
              " 'of',\n",
              " 'in',\n",
              " 'to',\n",
              " 'a',\n",
              " 'and',\n",
              " '(',\n",
              " ')',\n",
              " '\"',\n",
              " 'on',\n",
              " 'said',\n",
              " \"'s\",\n",
              " 'for',\n",
              " '1',\n",
              " '-',\n",
              " 'at',\n",
              " 'was',\n",
              " '2',\n",
              " '0',\n",
              " '3',\n",
              " 'with',\n",
              " 'that',\n",
              " 'he',\n",
              " 'from',\n",
              " 'it',\n",
              " 'by',\n",
              " 'is',\n",
              " ':',\n",
              " 'as',\n",
              " '4',\n",
              " 'had',\n",
              " 'his',\n",
              " 'has',\n",
              " 'but',\n",
              " 'an',\n",
              " 'not',\n",
              " 'were',\n",
              " 'be',\n",
              " 'after',\n",
              " 'have',\n",
              " 'first',\n",
              " 'new',\n",
              " 'who',\n",
              " 'will',\n",
              " 'they',\n",
              " '5',\n",
              " 'two',\n",
              " 'u.s.',\n",
              " 'been',\n",
              " '$',\n",
              " '--',\n",
              " 'their',\n",
              " 'beat',\n",
              " 'are',\n",
              " '6',\n",
              " 'which',\n",
              " 'would',\n",
              " 'this',\n",
              " 'up',\n",
              " 'its',\n",
              " 'year',\n",
              " 'i',\n",
              " 'last',\n",
              " 'percent',\n",
              " 'out',\n",
              " 'we',\n",
              " 'thursday',\n",
              " 'one',\n",
              " 'million',\n",
              " 'over',\n",
              " 'government',\n",
              " 'wednesday',\n",
              " 'police',\n",
              " '7',\n",
              " 'results',\n",
              " 'against',\n",
              " 'second',\n",
              " 'when',\n",
              " '/',\n",
              " 'also',\n",
              " 'tuesday',\n",
              " 'three',\n",
              " 'soccer',\n",
              " 'president',\n",
              " 'no',\n",
              " 'division',\n",
              " 'told',\n",
              " '10',\n",
              " 'monday',\n",
              " 'people',\n",
              " 'about',\n",
              " 'or',\n",
              " 'friday',\n",
              " 'league',\n",
              " 'some',\n",
              " 'london',\n",
              " 'there',\n",
              " 'world',\n",
              " 'her',\n",
              " 'minister',\n",
              " 'under',\n",
              " 'more',\n",
              " 'york',\n",
              " '9',\n",
              " '1996-08-28',\n",
              " 'won',\n",
              " 'into',\n",
              " 'state',\n",
              " 'sunday',\n",
              " '8',\n",
              " 'before',\n",
              " 'south',\n",
              " 'played',\n",
              " 'group',\n",
              " 'market',\n",
              " 'week',\n",
              " 'england',\n",
              " 'all',\n",
              " \"'\",\n",
              " 'time',\n",
              " 'germany',\n",
              " 'than',\n",
              " 'could',\n",
              " 'other',\n",
              " 'australia',\n",
              " 'she',\n",
              " 'between',\n",
              " 'since',\n",
              " 'points',\n",
              " 'match',\n",
              " 'company',\n",
              " 'bank',\n",
              " 'round',\n",
              " 'britain',\n",
              " 'officials',\n",
              " 'years',\n",
              " 'games',\n",
              " 'if',\n",
              " 'newsroom',\n",
              " 'only',\n",
              " 'saturday',\n",
              " 'national',\n",
              " 'france',\n",
              " 'party',\n",
              " 'six',\n",
              " 'former',\n",
              " '1996-08-22',\n",
              " 'four',\n",
              " 'third',\n",
              " 'home',\n",
              " '1996-08-29',\n",
              " 'city',\n",
              " '1996',\n",
              " 'off',\n",
              " 'cup',\n",
              " 'five',\n",
              " 'win',\n",
              " 'foreign',\n",
              " '11',\n",
              " '1996-08-27',\n",
              " 'open',\n",
              " 'day',\n",
              " 'down',\n",
              " 'august',\n",
              " '13',\n",
              " 'united',\n",
              " 'because',\n",
              " '6-4',\n",
              " '6-3',\n",
              " 'official',\n",
              " 'did',\n",
              " '21',\n",
              " 'just',\n",
              " 'next',\n",
              " '15',\n",
              " 'him',\n",
              " 'spain',\n",
              " 'standings',\n",
              " '1996-08-26',\n",
              " 'expected',\n",
              " 'shares',\n",
              " 'do',\n",
              " 'statement',\n",
              " 'spokesman',\n",
              " 'news',\n",
              " 'pakistan',\n",
              " 'through',\n",
              " 'may',\n",
              " 'women',\n",
              " 'made',\n",
              " '70',\n",
              " 'v',\n",
              " 'while',\n",
              " 'men',\n",
              " '12',\n",
              " 'chicago',\n",
              " '1996-08-23',\n",
              " 'international',\n",
              " 'them',\n",
              " '14',\n",
              " 'lost',\n",
              " 'german',\n",
              " 'july',\n",
              " 'where',\n",
              " 'russian',\n",
              " 'back',\n",
              " '20',\n",
              " '6-2',\n",
              " 'september',\n",
              " \"n't\",\n",
              " 'china',\n",
              " 'italy',\n",
              " 'british',\n",
              " '2.',\n",
              " '3.',\n",
              " 'european',\n",
              " 'any',\n",
              " 'peace',\n",
              " 'team',\n",
              " '1.',\n",
              " 'clinton',\n",
              " 'pct',\n",
              " 'matches',\n",
              " 'japan',\n",
              " 'seconds',\n",
              " 'prime',\n",
              " 'reported',\n",
              " 'billion',\n",
              " '69',\n",
              " 'month',\n",
              " 'earlier',\n",
              " 'june',\n",
              " 'central',\n",
              " 'now',\n",
              " 'russia',\n",
              " 'meeting',\n",
              " 'still',\n",
              " 'metres',\n",
              " 'final',\n",
              " '30',\n",
              " 'being',\n",
              " 'talks',\n",
              " 'west',\n",
              " 'added',\n",
              " '71',\n",
              " '1996-08-25',\n",
              " 'half',\n",
              " '1/2',\n",
              " 'during',\n",
              " 'french',\n",
              " 'season',\n",
              " 'b',\n",
              " 'you',\n",
              " 'set',\n",
              " 'capital',\n",
              " 'leading',\n",
              " 'san',\n",
              " 'take',\n",
              " 'tonnes',\n",
              " 'sweden',\n",
              " 'killed',\n",
              " 'st',\n",
              " 'india',\n",
              " 'lead',\n",
              " 'held',\n",
              " 'elections',\n",
              " 'net',\n",
              " 'around',\n",
              " 'end',\n",
              " 'war',\n",
              " 'tennis',\n",
              " 'security',\n",
              " 'should',\n",
              " 'reuters',\n",
              " 'our',\n",
              " 'most',\n",
              " 'part',\n",
              " 'mark',\n",
              " 'game',\n",
              " 'due',\n",
              " 'early',\n",
              " 'took',\n",
              " 'states',\n",
              " 'days',\n",
              " 'so',\n",
              " 'innings',\n",
              " 'ministry',\n",
              " 'saying',\n",
              " 'number',\n",
              " 'moscow',\n",
              " '68',\n",
              " 'cricket',\n",
              " '6-1',\n",
              " 'american',\n",
              " 'major',\n",
              " 'minutes',\n",
              " 'union',\n",
              " 'political',\n",
              " 'seven',\n",
              " 'per',\n",
              " '7-6',\n",
              " 'netherlands',\n",
              " '100',\n",
              " 'republic',\n",
              " 'hong',\n",
              " 'can',\n",
              " 'north',\n",
              " 'victory',\n",
              " 'championship',\n",
              " 'what',\n",
              " 'both',\n",
              " '22',\n",
              " 'well',\n",
              " 'belgium',\n",
              " 'total',\n",
              " 'country',\n",
              " 'iraq',\n",
              " 'play',\n",
              " 'court',\n",
              " 'kong',\n",
              " '50',\n",
              " 'close',\n",
              " 'africa',\n",
              " 'czech',\n",
              " 'visit',\n",
              " 'dutch',\n",
              " '25',\n",
              " 'result',\n",
              " 'champion',\n",
              " 'profit',\n",
              " 'commission',\n",
              " 'general',\n",
              " 'israel',\n",
              " 'left',\n",
              " 'eight',\n",
              " 'local',\n",
              " 'minute',\n",
              " 'says',\n",
              " 'price',\n",
              " 'trade',\n",
              " 'town',\n",
              " 'paris',\n",
              " '66',\n",
              " 'run',\n",
              " '1996-08-24',\n",
              " 'sales',\n",
              " '4.',\n",
              " 'very',\n",
              " 'press',\n",
              " '67',\n",
              " 'vs.',\n",
              " '5.',\n",
              " '6.',\n",
              " 'support',\n",
              " 'put',\n",
              " '1995',\n",
              " '24',\n",
              " 'leader',\n",
              " 'prices',\n",
              " '7-5',\n",
              " 'then',\n",
              " 'found',\n",
              " 'record',\n",
              " 'go',\n",
              " 'same',\n",
              " 'man',\n",
              " 'western',\n",
              " 'de',\n",
              " 'english',\n",
              " 'washington',\n",
              " 'called',\n",
              " 'northern',\n",
              " 'inc',\n",
              " 'say',\n",
              " 'issue',\n",
              " 'agency',\n",
              " 'test',\n",
              " 'opposition',\n",
              " 'meet',\n",
              " 'months',\n",
              " 'military',\n",
              " 'runs',\n",
              " 'rate',\n",
              " 'top',\n",
              " 'these',\n",
              " 'lower',\n",
              " 'ago',\n",
              " 'singles',\n",
              " '64',\n",
              " 'make',\n",
              " 'amsterdam',\n",
              " '72',\n",
              " 'race',\n",
              " 'newspaper',\n",
              " 'deal',\n",
              " 'goals',\n",
              " '16',\n",
              " 'office',\n",
              " 'democratic',\n",
              " 'ended',\n",
              " '60',\n",
              " 'cents',\n",
              " 'until',\n",
              " 'gave',\n",
              " 'following',\n",
              " 'leaders',\n",
              " 'behind',\n",
              " 'series',\n",
              " 'another',\n",
              " 'tour',\n",
              " 'sri',\n",
              " 'several',\n",
              " 'chief',\n",
              " 'late',\n",
              " 'australian',\n",
              " 'good',\n",
              " 'african',\n",
              " 'rebels',\n",
              " 'near',\n",
              " 'dollar',\n",
              " 'players',\n",
              " '75',\n",
              " 'michael',\n",
              " 'my',\n",
              " 'report',\n",
              " 'iraqi',\n",
              " 'weekend',\n",
              " 'economic',\n",
              " 'start',\n",
              " 'halftime',\n",
              " 'tournament',\n",
              " 'c',\n",
              " 'miles',\n",
              " 'refugees',\n",
              " 'agreed',\n",
              " 'southern',\n",
              " 'many',\n",
              " '74',\n",
              " 'get',\n",
              " 'power',\n",
              " '7.',\n",
              " 'plan',\n",
              " 'going',\n",
              " 'service',\n",
              " 'east',\n",
              " 'those',\n",
              " 'election',\n",
              " '73',\n",
              " 'attendance',\n",
              " ';',\n",
              " 'sydney',\n",
              " 'drawn',\n",
              " 'place',\n",
              " 'date',\n",
              " 'want',\n",
              " 'business',\n",
              " 'paul',\n",
              " 'white',\n",
              " 'stock',\n",
              " 'john',\n",
              " 'television',\n",
              " 'demand',\n",
              " 'israeli',\n",
              " 'david',\n",
              " 'gmt',\n",
              " 'taking',\n",
              " 'baseball',\n",
              " 'atlanta',\n",
              " 'grand',\n",
              " 'including',\n",
              " '8.',\n",
              " 'index',\n",
              " 'arrested',\n",
              " 'authorities',\n",
              " 'quoted',\n",
              " 'later',\n",
              " 'palestinian',\n",
              " 'parliament',\n",
              " 'corp',\n",
              " 'ahmed',\n",
              " 'allowed',\n",
              " 'forces',\n",
              " 'asked',\n",
              " 'cash',\n",
              " 'hit',\n",
              " 'km',\n",
              " 'california',\n",
              " 'zealand',\n",
              " 'brazil',\n",
              " 'house',\n",
              " 'already',\n",
              " 'army',\n",
              " 'arafat',\n",
              " 'rights',\n",
              " 'martin',\n",
              " 'club',\n",
              " '17',\n",
              " '28',\n",
              " 'yeltsin',\n",
              " 'fell',\n",
              " 'toronto',\n",
              " 'current',\n",
              " 'return',\n",
              " 'work',\n",
              " 'higher',\n",
              " 'ahead',\n",
              " 'loss',\n",
              " '31',\n",
              " 'weeks',\n",
              " 'm.',\n",
              " '1-0',\n",
              " '26',\n",
              " 'exchange',\n",
              " 'trading',\n",
              " 'dole',\n",
              " 'whether',\n",
              " 'hours',\n",
              " 'rose',\n",
              " 'quarter',\n",
              " 'came',\n",
              " 'reporters',\n",
              " 'announced',\n",
              " 'jerusalem',\n",
              " 'troops',\n",
              " 'share',\n",
              " 'closed',\n",
              " 'finland',\n",
              " 'way',\n",
              " 'squad',\n",
              " 'draw',\n",
              " 'vs',\n",
              " 'hospital',\n",
              " 'agreement',\n",
              " 'money',\n",
              " '19',\n",
              " 'countries',\n",
              " '...',\n",
              " 'like',\n",
              " '23',\n",
              " 'night',\n",
              " 'oil',\n",
              " 'head',\n",
              " 'austria',\n",
              " '1994',\n",
              " 'best',\n",
              " 'baltimore',\n",
              " '18',\n",
              " '65',\n",
              " 'conference',\n",
              " 'financial',\n",
              " 'began',\n",
              " 'scores',\n",
              " 'away',\n",
              " 'olympic',\n",
              " 'went',\n",
              " 'lanka',\n",
              " 'morning',\n",
              " 'decision',\n",
              " 'high',\n",
              " 'area',\n",
              " 'old',\n",
              " 'plans',\n",
              " 'bonds',\n",
              " 'such',\n",
              " 'aug',\n",
              " 'previous',\n",
              " 'main',\n",
              " 'few',\n",
              " '1997',\n",
              " 'past',\n",
              " 'francisco',\n",
              " 'los',\n",
              " 'hits',\n",
              " 'nations',\n",
              " 'budget',\n",
              " 'lebed',\n",
              " 'taken',\n",
              " 'human',\n",
              " 'public',\n",
              " 'us',\n",
              " 'fighting',\n",
              " 'fourth',\n",
              " 'little',\n",
              " 'champions',\n",
              " 'eastern',\n",
              " 'angeles',\n",
              " 'nine',\n",
              " 'latest',\n",
              " 'gold',\n",
              " 'italian',\n",
              " 'van',\n",
              " 'ban',\n",
              " 'long',\n",
              " 'march',\n",
              " 'growth',\n",
              " 'campaign',\n",
              " 'side',\n",
              " 'u.n.',\n",
              " 'strike',\n",
              " '63',\n",
              " 'fall',\n",
              " 'scored',\n",
              " 'signed',\n",
              " 'canada',\n",
              " 'seattle',\n",
              " 'colorado',\n",
              " 'co',\n",
              " 'much',\n",
              " 'bill',\n",
              " 'europe',\n",
              " 'ukraine',\n",
              " 'daily',\n",
              " 'manager',\n",
              " 'law',\n",
              " 'working',\n",
              " 'control',\n",
              " 'region',\n",
              " 'markets',\n",
              " 'future',\n",
              " 'winning',\n",
              " 'boston',\n",
              " '40',\n",
              " 'times',\n",
              " 'recent',\n",
              " 'think',\n",
              " 'call',\n",
              " 'health',\n",
              " 'accused',\n",
              " 'right',\n",
              " 'hold',\n",
              " 'pay',\n",
              " 'without',\n",
              " 'attack',\n",
              " 'own',\n",
              " 'plane',\n",
              " 'available',\n",
              " '96',\n",
              " 'akram',\n",
              " 'wickets',\n",
              " '62',\n",
              " 'order',\n",
              " 'airport',\n",
              " 'workers',\n",
              " 'again',\n",
              " 'disease',\n",
              " 'led',\n",
              " 'died',\n",
              " '27',\n",
              " 'period',\n",
              " 'give',\n",
              " 'free',\n",
              " 'average',\n",
              " 'interest',\n",
              " 'industry',\n",
              " 'members',\n",
              " 'ireland',\n",
              " 'texas',\n",
              " 'ajax',\n",
              " '9.',\n",
              " 'production',\n",
              " 'forecast',\n",
              " 'seen',\n",
              " 'vote',\n",
              " '---',\n",
              " 'might',\n",
              " 'sent',\n",
              " 'despite',\n",
              " 'embassy',\n",
              " 'ceasefire',\n",
              " 'failed',\n",
              " 'help',\n",
              " 'does',\n",
              " 'centre',\n",
              " 'released',\n",
              " 'louis',\n",
              " 'overs',\n",
              " 'case',\n",
              " \"'re\",\n",
              " 'dutroux',\n",
              " 'further',\n",
              " 'across',\n",
              " 'florida',\n",
              " 'island',\n",
              " 'short',\n",
              " 'me',\n",
              " 'october',\n",
              " 'started',\n",
              " 'county',\n",
              " 'wasim',\n",
              " 'captain',\n",
              " 'costa',\n",
              " 'cut',\n",
              " 'belgian',\n",
              " '29',\n",
              " 'children',\n",
              " 'death',\n",
              " 'least',\n",
              " 'council',\n",
              " 'rugby',\n",
              " 'black',\n",
              " 'mother',\n",
              " 'kurdish',\n",
              " 'jordan',\n",
              " 'planned',\n",
              " 'stories',\n",
              " 'analysts',\n",
              " 'strong',\n",
              " 'april',\n",
              " 'given',\n",
              " 'romania',\n",
              " 'premier',\n",
              " '59',\n",
              " 'thomas',\n",
              " 'coach',\n",
              " 'minnesota',\n",
              " 'kansas',\n",
              " 'diego',\n",
              " 'declared',\n",
              " 'playing',\n",
              " 'chechnya',\n",
              " 'convention',\n",
              " 'wheat',\n",
              " 'brussels',\n",
              " 'yr',\n",
              " 'rates',\n",
              " 'according',\n",
              " 'slovakia',\n",
              " 'title',\n",
              " '54',\n",
              " 'manchester',\n",
              " 'houston',\n",
              " 'shot',\n",
              " 'fifth',\n",
              " '10.',\n",
              " 'yet',\n",
              " 'civil',\n",
              " 'confirmed',\n",
              " 'bosnia',\n",
              " 'bosnian',\n",
              " 'republican',\n",
              " 'reports',\n",
              " 'contract',\n",
              " 'chairman',\n",
              " 'nearly',\n",
              " 'used',\n",
              " 'figures',\n",
              " 'secretary',\n",
              " 'force',\n",
              " 'term',\n",
              " 'must',\n",
              " 'trying',\n",
              " 'today',\n",
              " 'poland',\n",
              " 'possible',\n",
              " 'dealers',\n",
              " 'forced',\n",
              " 'golf',\n",
              " 'a.',\n",
              " 'tabulate',\n",
              " 'detroit',\n",
              " 'oakland',\n",
              " 'each',\n",
              " 'companies',\n",
              " 'seed',\n",
              " 'point',\n",
              " 'come',\n",
              " 'passengers',\n",
              " 'moslem',\n",
              " 'treaty',\n",
              " 'ltd',\n",
              " 'peter',\n",
              " 'action',\n",
              " 'known',\n",
              " 'brought',\n",
              " 'taiwan',\n",
              " 'opening',\n",
              " 'federal',\n",
              " 'sale',\n",
              " 'face',\n",
              " 'received',\n",
              " 'estimated',\n",
              " 'guerrillas',\n",
              " 'exports',\n",
              " 'aggregate',\n",
              " 'named',\n",
              " '2-0',\n",
              " 'robert',\n",
              " 'injured',\n",
              " 'road',\n",
              " 'woman',\n",
              " 'clear',\n",
              " 'small',\n",
              " 'charges',\n",
              " 'mexico',\n",
              " 'traders',\n",
              " 'kenya',\n",
              " 'nigeria',\n",
              " 'committee',\n",
              " 'senior',\n",
              " 'how',\n",
              " 'radio',\n",
              " 'details',\n",
              " 'association',\n",
              " 'straight',\n",
              " 'full',\n",
              " 'turkey',\n",
              " 'red',\n",
              " 'likely',\n",
              " 'earnings',\n",
              " 'immediately',\n",
              " 'services',\n",
              " 'use',\n",
              " 'l',\n",
              " 'wimbledon',\n",
              " 'argentina',\n",
              " 'cleveland',\n",
              " '1,000',\n",
              " '*',\n",
              " 'note',\n",
              " 'soon',\n",
              " 'post',\n",
              " 'investors',\n",
              " 'showed',\n",
              " 'private',\n",
              " 'department',\n",
              " 'yen',\n",
              " 'japanese',\n",
              " 'train',\n",
              " '48',\n",
              " 'bond',\n",
              " 'egypt',\n",
              " 'iran',\n",
              " 'level',\n",
              " 'air',\n",
              " 'spot',\n",
              " 'armed',\n",
              " '76',\n",
              " 'rally',\n",
              " 'unless',\n",
              " 'prix',\n",
              " 'better',\n",
              " 'croft',\n",
              " '0-0',\n",
              " 'cincinnati',\n",
              " '61',\n",
              " 'montreal',\n",
              " 'philadelphia',\n",
              " 'got',\n",
              " 'medical',\n",
              " 'groups',\n",
              " 'although',\n",
              " 'trip',\n",
              " 'stage',\n",
              " 'process',\n",
              " 'policy',\n",
              " 'see',\n",
              " 'conditions',\n",
              " 'believed',\n",
              " 'bonn',\n",
              " 'sold',\n",
              " 'tax',\n",
              " 'port',\n",
              " 'coming',\n",
              " 'board',\n",
              " 'seeding',\n",
              " 'holiday',\n",
              " 'waqar',\n",
              " 'younis',\n",
              " 'mushtaq',\n",
              " 'qualifier',\n",
              " 'johnson',\n",
              " 'milwaukee',\n",
              " 'young',\n",
              " 'psv',\n",
              " 'defence',\n",
              " 'swiss',\n",
              " 'violence',\n",
              " 'even',\n",
              " 'school',\n",
              " 'university',\n",
              " 'prison',\n",
              " 'information',\n",
              " 'rise',\n",
              " 'independence',\n",
              " 'pound',\n",
              " 'serb',\n",
              " '6-0',\n",
              " 'sell',\n",
              " 'here',\n",
              " 'message',\n",
              " 'baghdad',\n",
              " 'border',\n",
              " 'scheduled',\n",
              " 'data',\n",
              " 'keep',\n",
              " 'winner',\n",
              " 's.',\n",
              " 'rule',\n",
              " 'within',\n",
              " 'homer',\n",
              " 'jose',\n",
              " 'making',\n",
              " 'system',\n",
              " 'levels',\n",
              " '56',\n",
              " 'municipal',\n",
              " 'deputy',\n",
              " 'comment',\n",
              " 'nuclear',\n",
              " 'change',\n",
              " 'buy',\n",
              " 'polish',\n",
              " 'based',\n",
              " 'met',\n",
              " 'rebel',\n",
              " 'continue',\n",
              " 'land',\n",
              " 'saudi',\n",
              " 'flight',\n",
              " 'street',\n",
              " '53',\n",
              " 'know',\n",
              " 'course',\n",
              " 'scorers',\n",
              " 'director',\n",
              " 'khan',\n",
              " 'mullally',\n",
              " 'great',\n",
              " 'canadian',\n",
              " 'switzerland',\n",
              " 'pittsburgh',\n",
              " 'inning',\n",
              " 'tried',\n",
              " '55',\n",
              " 'letter',\n",
              " 'grozny',\n",
              " 'completed',\n",
              " 'charged',\n",
              " 'wife',\n",
              " 'volume',\n",
              " 'illegal',\n",
              " 'position',\n",
              " 'indian',\n",
              " 'economy',\n",
              " 'reached',\n",
              " 'struck',\n",
              " 'bid',\n",
              " 'king',\n",
              " 'chinese',\n",
              " 'goal',\n",
              " 'talk',\n",
              " 'netanyahu',\n",
              " 'source',\n",
              " 'kept',\n",
              " 'movement',\n",
              " 'areas',\n",
              " 'outside',\n",
              " 'puk',\n",
              " 'parties',\n",
              " 'attacks',\n",
              " 'problem',\n",
              " 'turkish',\n",
              " 'step',\n",
              " '45',\n",
              " '2-1',\n",
              " '1-1',\n",
              " 'prefix',\n",
              " 'opened',\n",
              " 'tie',\n",
              " 'percentage',\n",
              " '58',\n",
              " 'ground',\n",
              " 'stocks',\n",
              " 'able',\n",
              " 'deficit',\n",
              " 'arrived',\n",
              " \"'m\",\n",
              " 'poor',\n",
              " 'village',\n",
              " 'coast',\n",
              " 'osce',\n",
              " 'leave',\n",
              " 'having',\n",
              " 'drug',\n",
              " 'lot',\n",
              " 'eu',\n",
              " 'needed',\n",
              " 'similar',\n",
              " 'denied',\n",
              " 'paper',\n",
              " 'beijing',\n",
              " 'province',\n",
              " 'executive',\n",
              " 'compared',\n",
              " '300',\n",
              " 'schedule',\n",
              " 'firm',\n",
              " 'digest',\n",
              " ...]"
            ]
          },
          "metadata": {},
          "execution_count": 82
        }
      ]
    },
    {
      "cell_type": "markdown",
      "source": [
        "## Pre-processing Implementations"
      ],
      "metadata": {
        "id": "AbiGmetM1le5"
      }
    },
    {
      "cell_type": "code",
      "source": [
        "def map_record_to_training_data(record):\n",
        "    \n",
        "    # Finding out the token lenght\n",
        "    record = tf.strings.split(record, sep=\"\\t\")\n",
        "    length = tf.strings.to_number(record[0], out_type=tf.int32)\n",
        "    \n",
        "    # getting the token\n",
        "    tokens = record[1 : length + 1]\n",
        "    \n",
        "    # getting the tag and converting the convenient form\n",
        "    tags = record[length + 1 :]\n",
        "    tags = tf.strings.to_number(tags, out_type=tf.int64)\n",
        "    tags += 1\n",
        "    \n",
        "    return tokens, tags"
      ],
      "metadata": {
        "id": "4UPoIPsz1pLH"
      },
      "execution_count": 17,
      "outputs": []
    },
    {
      "cell_type": "code",
      "source": [
        "def lowercase_and_convert_to_ids(tokens):\n",
        "    tokens = tf.strings.lower(tokens)\n",
        "    return lookup_layer(tokens)"
      ],
      "metadata": {
        "id": "1_v3hPsa4bKq"
      },
      "execution_count": 18,
      "outputs": []
    },
    {
      "cell_type": "code",
      "source": [
        "def tokenize_and_convert_to_ids(text):\n",
        "    tokens = text.split()\n",
        "    return lowercase_and_convert_to_ids(tokens)"
      ],
      "metadata": {
        "id": "S-F6O6kp4W70"
      },
      "execution_count": 19,
      "outputs": []
    },
    {
      "cell_type": "code",
      "source": [
        "# each record has a different length. for handling use `padded_batch`. \n",
        "batch_size = 32\n",
        "train_dataset = (\n",
        "    train_data.map(map_record_to_training_data)\n",
        "    .map(lambda x, y: (lowercase_and_convert_to_ids(x), y))\n",
        "    .padded_batch(batch_size)\n",
        ")\n",
        "val_dataset = (\n",
        "    val_data.map(map_record_to_training_data)\n",
        "    .map(lambda x, y: (lowercase_and_convert_to_ids(x), y))\n",
        "    .padded_batch(batch_size)\n",
        ")"
      ],
      "metadata": {
        "colab": {
          "base_uri": "https://localhost:8080/"
        },
        "id": "CUIgzs5v0eqf",
        "outputId": "a21b3730-eaf3-4f2d-f917-e67dedc0a632"
      },
      "execution_count": 20,
      "outputs": [
        {
          "output_type": "stream",
          "name": "stderr",
          "text": [
            "WARNING:tensorflow:From /usr/local/lib/python3.9/dist-packages/tensorflow/python/autograph/pyct/static_analysis/liveness.py:83: Analyzer.lamba_check (from tensorflow.python.autograph.pyct.static_analysis.liveness) is deprecated and will be removed after 2023-09-23.\n",
            "Instructions for updating:\n",
            "Lambda fuctions will be no more assumed to be used in the statement where they are used, or at least in the same block. https://github.com/tensorflow/tensorflow/issues/56089\n"
          ]
        }
      ]
    },
    {
      "cell_type": "markdown",
      "source": [
        "# (D) Modelling"
      ],
      "metadata": {
        "id": "gMMlz0_02YrJ"
      }
    },
    {
      "cell_type": "markdown",
      "source": [
        "## Custom Architecture"
      ],
      "metadata": {
        "id": "TYIG0oLr2bRX"
      }
    },
    {
      "cell_type": "code",
      "execution_count": 21,
      "metadata": {
        "id": "HwXKWeOv26IL"
      },
      "outputs": [],
      "source": [
        "class TransformerBlock(layers.Layer):\n",
        "    def __init__(self, embed_dim, num_heads, ff_dim, rate=0.1):\n",
        "        super().__init__()\n",
        "\n",
        "        # defining  layers\n",
        "        self.att = keras.layers.MultiHeadAttention(\n",
        "            num_heads=num_heads, key_dim=embed_dim\n",
        "        )\n",
        "        self.ffn = keras.Sequential(\n",
        "            [\n",
        "                keras.layers.Dense(ff_dim, activation=\"relu\"),\n",
        "                keras.layers.Dense(embed_dim),\n",
        "            ]\n",
        "        )\n",
        "        self.layernorm1 = keras.layers.LayerNormalization(epsilon=1e-6)\n",
        "        self.layernorm2 = keras.layers.LayerNormalization(epsilon=1e-6)\n",
        "        self.dropout1 = keras.layers.Dropout(rate)\n",
        "        self.dropout2 = keras.layers.Dropout(rate)\n",
        "\n",
        "    def call(self, inputs, training=False):\n",
        "        \n",
        "        # Transformer block\n",
        "        attn_output = self.att(inputs, inputs)\n",
        "        attn_output = self.dropout1(attn_output, training=training)\n",
        "        out1 = self.layernorm1(inputs + attn_output)\n",
        "        \n",
        "        # dense layer\n",
        "        ffn_output = self.ffn(out1)\n",
        "        ffn_output = self.dropout2(ffn_output, training=training)\n",
        "        out2 = self.layernorm2(out1 + ffn_output)\n",
        "        \n",
        "        return out2\n"
      ]
    },
    {
      "cell_type": "code",
      "execution_count": 22,
      "metadata": {
        "id": "CICzjuw526IM"
      },
      "outputs": [],
      "source": [
        "class TokenAndPositionEmbedding(layers.Layer):\n",
        "    def __init__(self, maxlen, vocab_size, embed_dim):\n",
        "        super().__init__()\n",
        "        self.token_emb = keras.layers.Embedding(\n",
        "            input_dim=vocab_size, output_dim=embed_dim\n",
        "        )\n",
        "        self.pos_emb = keras.layers.Embedding(input_dim=maxlen, output_dim=embed_dim)\n",
        "\n",
        "    def call(self, inputs):\n",
        "        # data prepaation\n",
        "        maxlen = tf.shape(inputs)[-1]\n",
        "        positions = tf.range(start=0, limit=maxlen, delta=1)\n",
        "        \n",
        "        # Embedding\n",
        "        position_embeddings = self.pos_emb(positions)\n",
        "        token_embeddings = self.token_emb(inputs)\n",
        "        \n",
        "        # concatenation\n",
        "        embeddings = token_embeddings + position_embeddings\n",
        "        return embeddings\n"
      ]
    },
    {
      "cell_type": "code",
      "execution_count": 23,
      "metadata": {
        "id": "v6OTCiYU26IN"
      },
      "outputs": [],
      "source": [
        "class NERModel(keras.Model):\n",
        "    def __init__(\n",
        "        self, num_tags, vocab_size, maxlen=128, embed_dim=32, num_heads=2, ff_dim=32\n",
        "    ):\n",
        "        super().__init__()\n",
        "        self.embedding_layer = TokenAndPositionEmbedding(maxlen, vocab_size, embed_dim)\n",
        "        self.transformer_block = TransformerBlock(embed_dim, num_heads, ff_dim)\n",
        "        self.dropout1 = layers.Dropout(0.1)\n",
        "        self.ff = layers.Dense(ff_dim, activation=\"relu\")\n",
        "        self.dropout2 = layers.Dropout(0.1)\n",
        "        self.ff_final = layers.Dense(num_tags, activation=\"softmax\")\n",
        "\n",
        "    def call(self, inputs, training=False):\n",
        "        \n",
        "        # Block-1 (Feature extraction)\n",
        "        x = self.embedding_layer(inputs)\n",
        "        x = self.transformer_block(x)\n",
        "        x = self.dropout1(x, training=training)\n",
        "\n",
        "        # Fully Connected\n",
        "        x = self.ff(x)\n",
        "        x = self.dropout2(x, training=training)\n",
        "        x = self.ff_final(x)\n",
        "        return x\n"
      ]
    },
    {
      "cell_type": "code",
      "source": [
        "# Define a custom object for saving and loading the model\n",
        "class CustomObjectScope:\n",
        "    def __enter__(self):\n",
        "        self.old_getattr = getattr\n",
        "        setattr(tf.keras.layers, 'TransformerBlock', TransformerBlock)\n",
        "        setattr(tf.keras.layers, 'TokenAndPositionEmbedding', TokenAndPositionEmbedding)\n",
        "        setattr(tf.keras, 'NERModel', NERModel)\n",
        "        setattr(tf.keras.losses, 'CustomNonPaddingTokenLoss', CustomNonPaddingTokenLoss)\n",
        "\n",
        "    def __exit__(self, type, value, traceback):\n",
        "        setattr(tf.keras.layers, 'TransformerBlock', self.old_getattr(tf.keras.layers, 'TransformerBlock'))\n",
        "        setattr(tf.keras.layers, 'TokenAndPositionEmbedding', self.old_getattr(tf.keras.layers, 'TokenAndPositionEmbedding'))\n",
        "        setattr(tf.keras, 'NERModel', self.old_getattr(tf.keras, 'NERModel'))\n",
        "        setattr(tf.keras.losses, 'CustomNonPaddingTokenLoss', self.old_getattr(tf.keras.losses, 'CustomNonPaddingTokenLoss'))"
      ],
      "metadata": {
        "id": "aYte8AfsKiBU"
      },
      "execution_count": null,
      "outputs": []
    },
    {
      "cell_type": "markdown",
      "source": [
        "## Custom Loss"
      ],
      "metadata": {
        "id": "-dCAbcpJ2dEk"
      }
    },
    {
      "cell_type": "code",
      "execution_count": 25,
      "metadata": {
        "id": "rhmLWIhe26IO"
      },
      "outputs": [],
      "source": [
        "class CustomNonPaddingTokenLoss(keras.losses.Loss):\n",
        "    def __init__(self, name=\"custom_ner_loss\"):\n",
        "        super().__init__(name=name)\n",
        "\n",
        "    def call(self, y_true, y_pred):\n",
        "        # calculating the loss directly\n",
        "        loss_fn = keras.losses.SparseCategoricalCrossentropy(\n",
        "            from_logits=True, reduction=keras.losses.Reduction.NONE\n",
        "        )\n",
        "        loss = loss_fn(y_true, y_pred)\n",
        "\n",
        "        # filtering the masked tags\n",
        "        mask = tf.cast((y_true > 0), dtype=tf.float32)\n",
        "        loss = loss * mask\n",
        "\n",
        "        # finging out the ratio\n",
        "        ratio = tf.reduce_sum(loss) / tf.reduce_sum(mask)\n",
        "        return ratio "
      ]
    },
    {
      "cell_type": "markdown",
      "source": [
        "## Building a model"
      ],
      "metadata": {
        "id": "0B1NsFlq4Gw6"
      }
    },
    {
      "cell_type": "code",
      "source": [
        "# defining the model instance\n",
        "loss = CustomNonPaddingTokenLoss()\n",
        "ner_model = NERModel(num_tags, vocab_size, embed_dim=32, num_heads=4, ff_dim=64)\n",
        "\n",
        "# configurating the model\n",
        "ner_model.compile(optimizer=\"adam\", loss=loss)"
      ],
      "metadata": {
        "id": "gqGeUHys4GpF"
      },
      "execution_count": 26,
      "outputs": []
    },
    {
      "cell_type": "markdown",
      "source": [
        "## Training the model"
      ],
      "metadata": {
        "id": "bimcIb5k2inX"
      }
    },
    {
      "cell_type": "code",
      "source": [
        "from tensorflow.keras.callbacks import ModelCheckpoint, EarlyStopping, TensorBoard, CSVLogger, LearningRateScheduler, ReduceLROnPlateau, LambdaCallback\n",
        "import numpy as np\n",
        "\n",
        "def step_decay(epoch):\n",
        "    initial_lrate = 0.1\n",
        "    drop = 0.5\n",
        "    epochs_drop = 10\n",
        "    lrate = initial_lrate * np.power(drop, np.floor((1+epoch)/epochs_drop))\n",
        "    return lrate\n",
        "\n",
        "def print_current_lr(epoch, logs):\n",
        "    print(\"Learning rate in epoch {} is {}\".format(epoch, float(tf.keras.backend.get_value(model.optimizer.lr))))\n",
        "\n",
        "# Temporary save paths\n",
        "checkpoint_path = \"TemporaryModel_ModelCheckpoint.h5\"\n",
        "tb_log_dir = \"./logs\""
      ],
      "metadata": {
        "id": "JIcuZ7v3eKtj"
      },
      "execution_count": 27,
      "outputs": []
    },
    {
      "cell_type": "code",
      "source": [
        "callbacks = [\n",
        "    #LearningRateScheduler(step_decay),\n",
        "    TensorBoard(log_dir=tb_log_dir),\n",
        "    ModelCheckpoint(filepath= checkpoint_path, save_best_only=True, save_weights_only=True, monitor='val_loss', mode='min', verbose=1),\n",
        "    EarlyStopping(monitor='val_loss', patience=10, verbose=1),\n",
        "    CSVLogger(filename='training.log'),\n",
        "    #LambdaCallback(on_epoch_end=print_current_lr)\n",
        "]"
      ],
      "metadata": {
        "id": "_oVTwn3KvbU6"
      },
      "execution_count": 28,
      "outputs": []
    },
    {
      "cell_type": "code",
      "source": [
        "# Training the model\n",
        "ner_model.fit(train_dataset, callbacks=callbacks, epochs=10)"
      ],
      "metadata": {
        "colab": {
          "base_uri": "https://localhost:8080/"
        },
        "id": "KHRUtQC71wFU",
        "outputId": "53829318-791c-45df-8618-fbc855f17965"
      },
      "execution_count": 31,
      "outputs": [
        {
          "output_type": "stream",
          "name": "stdout",
          "text": [
            "Epoch 1/10\n"
          ]
        },
        {
          "output_type": "stream",
          "name": "stderr",
          "text": [
            "/usr/local/lib/python3.9/dist-packages/keras/backend.py:5585: UserWarning: \"`sparse_categorical_crossentropy` received `from_logits=True`, but the `output` argument was produced by a Softmax activation and thus does not represent logits. Was this intended?\n",
            "  output, from_logits = _get_logits(\n"
          ]
        },
        {
          "output_type": "stream",
          "name": "stdout",
          "text": [
            "    436/Unknown - 72s 140ms/step - loss: 0.6021"
          ]
        },
        {
          "output_type": "stream",
          "name": "stderr",
          "text": [
            "WARNING:tensorflow:Can save best model only with val_loss available, skipping.\n",
            "WARNING:tensorflow:Early stopping conditioned on metric `val_loss` which is not available. Available metrics are: loss\n"
          ]
        },
        {
          "output_type": "stream",
          "name": "stdout",
          "text": [
            "\b\b\b\b\b\b\b\b\b\b\b\b\b\b\b\b\b\b\b\b\b\b\b\b\b\b\b\b\b\b\b\b\b\b\b\b\b\b\b\b\b\b\b\b\b\b\b\r439/439 [==============================] - 72s 139ms/step - loss: 0.6006\n",
            "Epoch 2/10\n",
            "438/439 [============================>.] - ETA: 0s - loss: 0.2531"
          ]
        },
        {
          "output_type": "stream",
          "name": "stderr",
          "text": [
            "WARNING:tensorflow:Can save best model only with val_loss available, skipping.\n",
            "WARNING:tensorflow:Early stopping conditioned on metric `val_loss` which is not available. Available metrics are: loss\n"
          ]
        },
        {
          "output_type": "stream",
          "name": "stdout",
          "text": [
            "\b\b\b\b\b\b\b\b\b\b\b\b\b\b\b\b\b\b\b\b\b\b\b\b\b\b\b\b\b\b\b\b\b\b\b\b\b\b\b\b\b\b\b\b\b\b\b\b\b\b\b\b\b\b\b\b\b\b\b\b\b\b\b\b\b\r439/439 [==============================] - 5s 12ms/step - loss: 0.2529\n",
            "Epoch 3/10\n",
            "436/439 [============================>.] - ETA: 0s - loss: 0.1536"
          ]
        },
        {
          "output_type": "stream",
          "name": "stderr",
          "text": [
            "WARNING:tensorflow:Can save best model only with val_loss available, skipping.\n",
            "WARNING:tensorflow:Early stopping conditioned on metric `val_loss` which is not available. Available metrics are: loss\n"
          ]
        },
        {
          "output_type": "stream",
          "name": "stdout",
          "text": [
            "\b\b\b\b\b\b\b\b\b\b\b\b\b\b\b\b\b\b\b\b\b\b\b\b\b\b\b\b\b\b\b\b\b\b\b\b\b\b\b\b\b\b\b\b\b\b\b\b\b\b\b\b\b\b\b\b\b\b\b\b\b\b\b\b\b\r439/439 [==============================] - 6s 14ms/step - loss: 0.1536\n",
            "Epoch 4/10\n",
            "436/439 [============================>.] - ETA: 0s - loss: 0.1184"
          ]
        },
        {
          "output_type": "stream",
          "name": "stderr",
          "text": [
            "WARNING:tensorflow:Can save best model only with val_loss available, skipping.\n",
            "WARNING:tensorflow:Early stopping conditioned on metric `val_loss` which is not available. Available metrics are: loss\n"
          ]
        },
        {
          "output_type": "stream",
          "name": "stdout",
          "text": [
            "\b\b\b\b\b\b\b\b\b\b\b\b\b\b\b\b\b\b\b\b\b\b\b\b\b\b\b\b\b\b\b\b\b\b\b\b\b\b\b\b\b\b\b\b\b\b\b\b\b\b\b\b\b\b\b\b\b\b\b\b\b\b\b\b\b\r439/439 [==============================] - 6s 13ms/step - loss: 0.1184\n",
            "Epoch 5/10\n",
            "439/439 [==============================] - ETA: 0s - loss: 0.0931"
          ]
        },
        {
          "output_type": "stream",
          "name": "stderr",
          "text": [
            "WARNING:tensorflow:Can save best model only with val_loss available, skipping.\n",
            "WARNING:tensorflow:Early stopping conditioned on metric `val_loss` which is not available. Available metrics are: loss\n"
          ]
        },
        {
          "output_type": "stream",
          "name": "stdout",
          "text": [
            "\b\b\b\b\b\b\b\b\b\b\b\b\b\b\b\b\b\b\b\b\b\b\b\b\b\b\b\b\b\b\b\b\b\b\b\b\b\b\b\b\b\b\b\b\b\b\b\b\b\b\b\b\b\b\b\b\b\b\b\b\b\b\b\b\b\r439/439 [==============================] - 6s 13ms/step - loss: 0.0931\n",
            "Epoch 6/10\n",
            "439/439 [==============================] - ETA: 0s - loss: 0.0769"
          ]
        },
        {
          "output_type": "stream",
          "name": "stderr",
          "text": [
            "WARNING:tensorflow:Can save best model only with val_loss available, skipping.\n",
            "WARNING:tensorflow:Early stopping conditioned on metric `val_loss` which is not available. Available metrics are: loss\n"
          ]
        },
        {
          "output_type": "stream",
          "name": "stdout",
          "text": [
            "\b\b\b\b\b\b\b\b\b\b\b\b\b\b\b\b\b\b\b\b\b\b\b\b\b\b\b\b\b\b\b\b\b\b\b\b\b\b\b\b\b\b\b\b\b\b\b\b\b\b\b\b\b\b\b\b\b\b\b\b\b\b\b\b\b\r439/439 [==============================] - 8s 18ms/step - loss: 0.0769\n",
            "Epoch 7/10\n",
            "435/439 [============================>.] - ETA: 0s - loss: 0.0656"
          ]
        },
        {
          "output_type": "stream",
          "name": "stderr",
          "text": [
            "WARNING:tensorflow:Can save best model only with val_loss available, skipping.\n",
            "WARNING:tensorflow:Early stopping conditioned on metric `val_loss` which is not available. Available metrics are: loss\n"
          ]
        },
        {
          "output_type": "stream",
          "name": "stdout",
          "text": [
            "\b\b\b\b\b\b\b\b\b\b\b\b\b\b\b\b\b\b\b\b\b\b\b\b\b\b\b\b\b\b\b\b\b\b\b\b\b\b\b\b\b\b\b\b\b\b\b\b\b\b\b\b\b\b\b\b\b\b\b\b\b\b\b\b\b\r439/439 [==============================] - 5s 12ms/step - loss: 0.0659\n",
            "Epoch 8/10\n",
            "438/439 [============================>.] - ETA: 0s - loss: 0.0572"
          ]
        },
        {
          "output_type": "stream",
          "name": "stderr",
          "text": [
            "WARNING:tensorflow:Can save best model only with val_loss available, skipping.\n",
            "WARNING:tensorflow:Early stopping conditioned on metric `val_loss` which is not available. Available metrics are: loss\n"
          ]
        },
        {
          "output_type": "stream",
          "name": "stdout",
          "text": [
            "\b\b\b\b\b\b\b\b\b\b\b\b\b\b\b\b\b\b\b\b\b\b\b\b\b\b\b\b\b\b\b\b\b\b\b\b\b\b\b\b\b\b\b\b\b\b\b\b\b\b\b\b\b\b\b\b\b\b\b\b\b\b\b\b\b\r439/439 [==============================] - 6s 14ms/step - loss: 0.0572\n",
            "Epoch 9/10\n",
            "436/439 [============================>.] - ETA: 0s - loss: 0.0493"
          ]
        },
        {
          "output_type": "stream",
          "name": "stderr",
          "text": [
            "WARNING:tensorflow:Can save best model only with val_loss available, skipping.\n",
            "WARNING:tensorflow:Early stopping conditioned on metric `val_loss` which is not available. Available metrics are: loss\n"
          ]
        },
        {
          "output_type": "stream",
          "name": "stdout",
          "text": [
            "\b\b\b\b\b\b\b\b\b\b\b\b\b\b\b\b\b\b\b\b\b\b\b\b\b\b\b\b\b\b\b\b\b\b\b\b\b\b\b\b\b\b\b\b\b\b\b\b\b\b\b\b\b\b\b\b\b\b\b\b\b\b\b\b\b\r439/439 [==============================] - 5s 12ms/step - loss: 0.0493\n",
            "Epoch 10/10\n",
            "436/439 [============================>.] - ETA: 0s - loss: 0.0424"
          ]
        },
        {
          "output_type": "stream",
          "name": "stderr",
          "text": [
            "WARNING:tensorflow:Can save best model only with val_loss available, skipping.\n",
            "WARNING:tensorflow:Early stopping conditioned on metric `val_loss` which is not available. Available metrics are: loss\n"
          ]
        },
        {
          "output_type": "stream",
          "name": "stdout",
          "text": [
            "\b\b\b\b\b\b\b\b\b\b\b\b\b\b\b\b\b\b\b\b\b\b\b\b\b\b\b\b\b\b\b\b\b\b\b\b\b\b\b\b\b\b\b\b\b\b\b\b\b\b\b\b\b\b\b\b\b\b\b\b\b\b\b\b\b\r439/439 [==============================] - 6s 14ms/step - loss: 0.0424\n"
          ]
        },
        {
          "output_type": "execute_result",
          "data": {
            "text/plain": [
              "<keras.callbacks.History at 0x7f12ce9284f0>"
            ]
          },
          "metadata": {},
          "execution_count": 31
        }
      ]
    },
    {
      "cell_type": "code",
      "source": [
        "# encoding arbitrary text\n",
        "ex_text = \"eu rejects german call to boycott british lamb\"\n",
        "sample_input = tokenize_and_convert_to_ids(ex_text)\n",
        "sample_input = tf.reshape(sample_input, shape=[1, -1])\n",
        "\n",
        "# prediction\n",
        "output = ner_model.predict(sample_input)\n",
        "\n",
        "# decoding  the results\n",
        "prediction = np.argmax(output, axis=-1)[0]\n",
        "prediction = [mapping[i] for i in prediction]\n",
        "\n",
        "# Showing the results\n",
        "#print(\"eu -> B-ORG, german -> B-MISC, british -> B-MISC\")\n",
        "print(ex_text)\n",
        "print(prediction)"
      ],
      "metadata": {
        "id": "W0JLSrcz4Uja",
        "colab": {
          "base_uri": "https://localhost:8080/"
        },
        "outputId": "e9fb2cdd-c57c-477e-fb80-a41625ab8ae4"
      },
      "execution_count": 34,
      "outputs": [
        {
          "output_type": "stream",
          "name": "stdout",
          "text": [
            "1/1 [==============================] - 0s 39ms/step\n",
            "eu rejects german call to boycott british lamb\n",
            "['B-ORG', 'O', 'I-ORG', 'O', 'O', 'O', 'I-ORG', 'O']\n"
          ]
        }
      ]
    },
    {
      "cell_type": "markdown",
      "source": [
        "## Results"
      ],
      "metadata": {
        "id": "qTy0TkrV2kbs"
      }
    },
    {
      "cell_type": "code",
      "source": [
        "from conlleval import evaluate\n",
        "def calculate_metrics(dataset, ner_model=ner_model):\n",
        "\n",
        "    all_true_tag_ids, all_predicted_tag_ids = [], []\n",
        "    \n",
        "    # iterate data\n",
        "    for x, y in dataset:\n",
        "        \n",
        "        # prediction\n",
        "        output = ner_model.predict(x)\n",
        "        \n",
        "        # encoding the output\n",
        "        predictions = np.argmax(output, axis=-1)\n",
        "        predictions = np.reshape(predictions, [-1])\n",
        "\n",
        "        # extracting the actual value\n",
        "        true_tag_ids = np.reshape(y, [-1])\n",
        "\n",
        "        # getting the tags\n",
        "        mask = (true_tag_ids > 0) & (predictions > 0)\n",
        "        true_tag_ids = true_tag_ids[mask]\n",
        "        predicted_tag_ids = predictions[mask]\n",
        "\n",
        "        # collecting the results\n",
        "        all_true_tag_ids.append(true_tag_ids)\n",
        "        all_predicted_tag_ids.append(predicted_tag_ids)\n",
        "\n",
        "    # Adjusting the shape of total data\n",
        "    all_true_tag_ids = np.concatenate(all_true_tag_ids)\n",
        "    all_predicted_tag_ids = np.concatenate(all_predicted_tag_ids)\n",
        "\n",
        "    # processing the tags (mapping)\n",
        "    predicted_tags = [mapping[tag] for tag in all_predicted_tag_ids]\n",
        "    real_tags = [mapping[tag] for tag in all_true_tag_ids]\n",
        "\n",
        "\n",
        "    # converting lists to strings\n",
        "    predicted_tags_str = ' '.join(predicted_tags)\n",
        "    real_tags_str = ' '.join(real_tags)\n",
        "\n",
        "\n",
        "    # format the strings correctly\n",
        "    predicted_lines = predicted_tags_str.split()\n",
        "    real_lines = real_tags_str.split()\n",
        "\n",
        "    lines = []\n",
        "    for i in range(len(predicted_lines)):\n",
        "        line = f\"WORD O {real_lines[i]} {predicted_lines[i]}\"\n",
        "        lines.append(line)\n",
        "\n",
        "    input_str = \"\\n\".join(lines)\n",
        "\n",
        "    # implementing the conlleval.evaluate for ner model evaluation\n",
        "    #print(input_str)\n",
        "    evaluate(input_str)\n"
      ],
      "metadata": {
        "id": "ycXA_nOz2kR4"
      },
      "execution_count": 66,
      "outputs": []
    },
    {
      "cell_type": "code",
      "source": [
        "#calculate_metrics(val_dataset)"
      ],
      "metadata": {
        "id": "d180MOpF2oMQ"
      },
      "execution_count": null,
      "outputs": []
    },
    {
      "cell_type": "markdown",
      "source": [
        "# (E) Saving & Downloading the model"
      ],
      "metadata": {
        "id": "dUG37Eplnw8M"
      }
    },
    {
      "cell_type": "code",
      "source": [
        "#ner_model.load_weights(checkpoint_path)"
      ],
      "metadata": {
        "id": "AUcD136vJczm"
      },
      "execution_count": null,
      "outputs": []
    },
    {
      "cell_type": "markdown",
      "source": [
        "### Saving the model"
      ],
      "metadata": {
        "id": "F-X_4LJdoEl4"
      }
    },
    {
      "cell_type": "code",
      "source": [
        "# Save the model\n",
        "model_save_path = 'ner_model'\n",
        "with CustomObjectScope(): ner_model.save(model_save_path)\n",
        "tf.saved_model.save(lookup_layer, \"lookup\") #string lookup layer"
      ],
      "metadata": {
        "id": "pHQMCnAPn8tk",
        "colab": {
          "base_uri": "https://localhost:8080/"
        },
        "outputId": "fb2d510c-7d17-460f-d6c2-7d0298b38f41"
      },
      "execution_count": 84,
      "outputs": [
        {
          "output_type": "stream",
          "name": "stderr",
          "text": [
            "WARNING:absl:Found untraced functions such as _update_step_xla, embedding_layer_call_fn, embedding_layer_call_and_return_conditional_losses, embedding_1_layer_call_fn, embedding_1_layer_call_and_return_conditional_losses while saving (showing 5 of 27). These functions will not be directly callable after loading.\n"
          ]
        }
      ]
    },
    {
      "cell_type": "code",
      "source": [
        "import pickle\n",
        "pickle.dump(vocabulary, open(\"vocabulary\", 'wb'))"
      ],
      "metadata": {
        "id": "8SsQQ2sOb5Xx"
      },
      "execution_count": 83,
      "outputs": []
    },
    {
      "cell_type": "markdown",
      "source": [
        "### Loading the model"
      ],
      "metadata": {
        "id": "W-fx2FKqs34g"
      }
    },
    {
      "cell_type": "code",
      "source": [
        "# Load the model\n",
        "with CustomObjectScope():\n",
        "    loaded_model = keras.models.load_model(model_save_path, compile=False)\n",
        "    loaded_model.compile(optimizer=\"adam\", loss=CustomNonPaddingTokenLoss())"
      ],
      "metadata": {
        "id": "bE3SBeRRswqg"
      },
      "execution_count": 91,
      "outputs": []
    },
    {
      "cell_type": "code",
      "source": [
        "# The StringLook class will convert tokens to token IDs\n",
        "vocabulary  = pickle.load(open(\"vocabulary\", 'rb'))\n",
        "lookup_layer = keras.layers.StringLookup(vocabulary=vocabulary)"
      ],
      "metadata": {
        "id": "SJGdwta6hMBw"
      },
      "execution_count": null,
      "outputs": []
    },
    {
      "cell_type": "code",
      "source": [
        "# encoding arbitrary text\n",
        "ex_text = \"eu rejects german call to boycott british lamb\"\n",
        "sample_input = tokenize_and_convert_to_ids(ex_text)\n",
        "sample_input = tf.reshape(sample_input, shape=[1, -1])\n",
        "\n",
        "# prediction\n",
        "output = loaded_model.predict(sample_input)\n",
        "\n",
        "# decoding  the results\n",
        "prediction = np.argmax(output, axis=-1)[0]\n",
        "prediction = [mapping[i] for i in prediction]\n",
        "\n",
        "# Showing the results\n",
        "#print(\"eu -> B-ORG, german -> B-MISC, british -> B-MISC\")\n",
        "print(ex_text)\n",
        "print(prediction)"
      ],
      "metadata": {
        "colab": {
          "base_uri": "https://localhost:8080/"
        },
        "id": "sQuNxeruLxNS",
        "outputId": "9ebf83fa-1ad0-4726-f66d-6020dc3ccc2c"
      },
      "execution_count": 94,
      "outputs": [
        {
          "output_type": "stream",
          "name": "stdout",
          "text": [
            "1/1 [==============================] - 0s 52ms/step\n",
            "eu rejects german call to boycott british lamb\n",
            "['B-ORG', 'O', 'I-ORG', 'O', 'O', 'O', 'I-ORG', 'O']\n"
          ]
        }
      ]
    },
    {
      "cell_type": "markdown",
      "source": [
        "### Zipping the model\n"
      ],
      "metadata": {
        "id": "cFGi9AlNtcO7"
      }
    },
    {
      "cell_type": "code",
      "source": [
        "os.system(f\"zip -r {model_save_path}.zip {model_save_path}\" )"
      ],
      "metadata": {
        "colab": {
          "base_uri": "https://localhost:8080/"
        },
        "id": "Dw6TcVxP7D9N",
        "outputId": "d1b07910-f338-4bba-ec4e-d48e13beef50"
      },
      "execution_count": 134,
      "outputs": [
        {
          "output_type": "execute_result",
          "data": {
            "text/plain": [
              "0"
            ]
          },
          "metadata": {},
          "execution_count": 134
        }
      ]
    },
    {
      "cell_type": "markdown",
      "source": [
        "### Downloading the model"
      ],
      "metadata": {
        "id": "dvYMXcIsoGjX"
      }
    },
    {
      "cell_type": "code",
      "source": [
        "from google.colab import files\n",
        "files.download(f\"{model_save_path}.zip\")"
      ],
      "metadata": {
        "id": "QIXQxNDHtpJL",
        "colab": {
          "base_uri": "https://localhost:8080/",
          "height": 17
        },
        "outputId": "00e22a72-aec3-46eb-c0b8-1e552fd2400d"
      },
      "execution_count": 135,
      "outputs": [
        {
          "output_type": "display_data",
          "data": {
            "text/plain": [
              "<IPython.core.display.Javascript object>"
            ],
            "application/javascript": [
              "\n",
              "    async function download(id, filename, size) {\n",
              "      if (!google.colab.kernel.accessAllowed) {\n",
              "        return;\n",
              "      }\n",
              "      const div = document.createElement('div');\n",
              "      const label = document.createElement('label');\n",
              "      label.textContent = `Downloading \"${filename}\": `;\n",
              "      div.appendChild(label);\n",
              "      const progress = document.createElement('progress');\n",
              "      progress.max = size;\n",
              "      div.appendChild(progress);\n",
              "      document.body.appendChild(div);\n",
              "\n",
              "      const buffers = [];\n",
              "      let downloaded = 0;\n",
              "\n",
              "      const channel = await google.colab.kernel.comms.open(id);\n",
              "      // Send a message to notify the kernel that we're ready.\n",
              "      channel.send({})\n",
              "\n",
              "      for await (const message of channel.messages) {\n",
              "        // Send a message to notify the kernel that we're ready.\n",
              "        channel.send({})\n",
              "        if (message.buffers) {\n",
              "          for (const buffer of message.buffers) {\n",
              "            buffers.push(buffer);\n",
              "            downloaded += buffer.byteLength;\n",
              "            progress.value = downloaded;\n",
              "          }\n",
              "        }\n",
              "      }\n",
              "      const blob = new Blob(buffers, {type: 'application/binary'});\n",
              "      const a = document.createElement('a');\n",
              "      a.href = window.URL.createObjectURL(blob);\n",
              "      a.download = filename;\n",
              "      div.appendChild(a);\n",
              "      a.click();\n",
              "      div.remove();\n",
              "    }\n",
              "  "
            ]
          },
          "metadata": {}
        },
        {
          "output_type": "display_data",
          "data": {
            "text/plain": [
              "<IPython.core.display.Javascript object>"
            ],
            "application/javascript": [
              "download(\"download_30dff133-25a3-4ac7-ad6c-343cd678bc60\", \"ner_model.zip\", 7605417)"
            ]
          },
          "metadata": {}
        }
      ]
    },
    {
      "cell_type": "code",
      "source": [
        "from google.colab import files\n",
        "files.download(\"vocabulary\")"
      ],
      "metadata": {
        "colab": {
          "base_uri": "https://localhost:8080/",
          "height": 17
        },
        "id": "2w1IJguEbAm_",
        "outputId": "32f2c684-ebab-4fe2-8b76-e6bac87d46c5"
      },
      "execution_count": 47,
      "outputs": [
        {
          "output_type": "display_data",
          "data": {
            "text/plain": [
              "<IPython.core.display.Javascript object>"
            ],
            "application/javascript": [
              "\n",
              "    async function download(id, filename, size) {\n",
              "      if (!google.colab.kernel.accessAllowed) {\n",
              "        return;\n",
              "      }\n",
              "      const div = document.createElement('div');\n",
              "      const label = document.createElement('label');\n",
              "      label.textContent = `Downloading \"${filename}\": `;\n",
              "      div.appendChild(label);\n",
              "      const progress = document.createElement('progress');\n",
              "      progress.max = size;\n",
              "      div.appendChild(progress);\n",
              "      document.body.appendChild(div);\n",
              "\n",
              "      const buffers = [];\n",
              "      let downloaded = 0;\n",
              "\n",
              "      const channel = await google.colab.kernel.comms.open(id);\n",
              "      // Send a message to notify the kernel that we're ready.\n",
              "      channel.send({})\n",
              "\n",
              "      for await (const message of channel.messages) {\n",
              "        // Send a message to notify the kernel that we're ready.\n",
              "        channel.send({})\n",
              "        if (message.buffers) {\n",
              "          for (const buffer of message.buffers) {\n",
              "            buffers.push(buffer);\n",
              "            downloaded += buffer.byteLength;\n",
              "            progress.value = downloaded;\n",
              "          }\n",
              "        }\n",
              "      }\n",
              "      const blob = new Blob(buffers, {type: 'application/binary'});\n",
              "      const a = document.createElement('a');\n",
              "      a.href = window.URL.createObjectURL(blob);\n",
              "      a.download = filename;\n",
              "      div.appendChild(a);\n",
              "      a.click();\n",
              "      div.remove();\n",
              "    }\n",
              "  "
            ]
          },
          "metadata": {}
        },
        {
          "output_type": "display_data",
          "data": {
            "text/plain": [
              "<IPython.core.display.Javascript object>"
            ],
            "application/javascript": [
              "download(\"download_2b94737c-23c3-4ba2-93e1-8da7ef243d82\", \"lookup.zip\", 130723)"
            ]
          },
          "metadata": {}
        }
      ]
    },
    {
      "cell_type": "markdown",
      "source": [
        "# (G) Deployment as App"
      ],
      "metadata": {
        "id": "OF-4L0XaoK3M"
      }
    },
    {
      "cell_type": "code",
      "source": [
        "import pickle\n",
        "import numpy as np\n",
        "import tensorflow as tf\n",
        "from tensorflow import keras\n",
        "from tensorflow.keras import layers"
      ],
      "metadata": {
        "id": "CIh9yA9aZJvr"
      },
      "execution_count": 10,
      "outputs": []
    },
    {
      "cell_type": "code",
      "source": [
        "import os\n",
        "if os.system(\"pip freeze | grep gradio==\") != 0: os.system(\"pip install gradio\")\n",
        "import gradio as gr"
      ],
      "metadata": {
        "id": "3-G5NXKWvhBs"
      },
      "execution_count": 2,
      "outputs": []
    },
    {
      "cell_type": "code",
      "source": [
        "!unzip ner_model.zip"
      ],
      "metadata": {
        "colab": {
          "base_uri": "https://localhost:8080/"
        },
        "id": "3DDA1xt6ZyPh",
        "outputId": "ce6813c7-8e06-4c36-c86c-f21fd9f800a8"
      },
      "execution_count": 3,
      "outputs": [
        {
          "output_type": "stream",
          "name": "stdout",
          "text": [
            "Archive:  ner_model.zip\n",
            "   creating: ner_model/\n",
            "   creating: ner_model/variables/\n",
            "  inflating: ner_model/variables/variables.data-00000-of-00001  \n",
            "  inflating: ner_model/variables/variables.index  \n",
            "  inflating: ner_model/saved_model.pb  \n",
            "   creating: ner_model/assets/\n",
            "  inflating: ner_model/keras_metadata.pb  \n",
            " extracting: ner_model/fingerprint.pb  \n"
          ]
        }
      ]
    },
    {
      "cell_type": "markdown",
      "source": [
        "## Custom architecture "
      ],
      "metadata": {
        "id": "9pCLipGNZANu"
      }
    },
    {
      "cell_type": "code",
      "execution_count": 4,
      "metadata": {
        "id": "QCjb_6RfZDfw"
      },
      "outputs": [],
      "source": [
        "class TransformerBlock(layers.Layer):\n",
        "    def __init__(self, embed_dim, num_heads, ff_dim, rate=0.1):\n",
        "        super().__init__()\n",
        "\n",
        "        # defining  layers\n",
        "        self.att = keras.layers.MultiHeadAttention(\n",
        "            num_heads=num_heads, key_dim=embed_dim\n",
        "        )\n",
        "        self.ffn = keras.Sequential(\n",
        "            [\n",
        "                keras.layers.Dense(ff_dim, activation=\"relu\"),\n",
        "                keras.layers.Dense(embed_dim),\n",
        "            ]\n",
        "        )\n",
        "        self.layernorm1 = keras.layers.LayerNormalization(epsilon=1e-6)\n",
        "        self.layernorm2 = keras.layers.LayerNormalization(epsilon=1e-6)\n",
        "        self.dropout1 = keras.layers.Dropout(rate)\n",
        "        self.dropout2 = keras.layers.Dropout(rate)\n",
        "\n",
        "    def call(self, inputs, training=False):\n",
        "        \n",
        "        # Transformer block\n",
        "        attn_output = self.att(inputs, inputs)\n",
        "        attn_output = self.dropout1(attn_output, training=training)\n",
        "        out1 = self.layernorm1(inputs + attn_output)\n",
        "        \n",
        "        # dense layer\n",
        "        ffn_output = self.ffn(out1)\n",
        "        ffn_output = self.dropout2(ffn_output, training=training)\n",
        "        out2 = self.layernorm2(out1 + ffn_output)\n",
        "        \n",
        "        return out2\n"
      ]
    },
    {
      "cell_type": "code",
      "execution_count": 5,
      "metadata": {
        "id": "o0PqNsGPZDfx"
      },
      "outputs": [],
      "source": [
        "class TokenAndPositionEmbedding(layers.Layer):\n",
        "    def __init__(self, maxlen, vocab_size, embed_dim):\n",
        "        super().__init__()\n",
        "        self.token_emb = keras.layers.Embedding(\n",
        "            input_dim=vocab_size, output_dim=embed_dim\n",
        "        )\n",
        "        self.pos_emb = keras.layers.Embedding(input_dim=maxlen, output_dim=embed_dim)\n",
        "\n",
        "    def call(self, inputs):\n",
        "        # data prepaation\n",
        "        maxlen = tf.shape(inputs)[-1]\n",
        "        positions = tf.range(start=0, limit=maxlen, delta=1)\n",
        "        \n",
        "        # Embedding\n",
        "        position_embeddings = self.pos_emb(positions)\n",
        "        token_embeddings = self.token_emb(inputs)\n",
        "        \n",
        "        # concatenation\n",
        "        embeddings = token_embeddings + position_embeddings\n",
        "        return embeddings\n"
      ]
    },
    {
      "cell_type": "code",
      "execution_count": 6,
      "metadata": {
        "id": "YQba-UNlZDfx"
      },
      "outputs": [],
      "source": [
        "class NERModel(keras.Model):\n",
        "    def __init__(\n",
        "        self, num_tags, vocab_size, maxlen=128, embed_dim=32, num_heads=2, ff_dim=32\n",
        "    ):\n",
        "        super().__init__()\n",
        "        self.embedding_layer = TokenAndPositionEmbedding(maxlen, vocab_size, embed_dim)\n",
        "        self.transformer_block = TransformerBlock(embed_dim, num_heads, ff_dim)\n",
        "        self.dropout1 = layers.Dropout(0.1)\n",
        "        self.ff = layers.Dense(ff_dim, activation=\"relu\")\n",
        "        self.dropout2 = layers.Dropout(0.1)\n",
        "        self.ff_final = layers.Dense(num_tags, activation=\"softmax\")\n",
        "\n",
        "    def call(self, inputs, training=False):\n",
        "        \n",
        "        # Block-1 (Feature extraction)\n",
        "        x = self.embedding_layer(inputs)\n",
        "        x = self.transformer_block(x)\n",
        "        x = self.dropout1(x, training=training)\n",
        "\n",
        "        # Fully Connected\n",
        "        x = self.ff(x)\n",
        "        x = self.dropout2(x, training=training)\n",
        "        x = self.ff_final(x)\n",
        "        return x\n"
      ]
    },
    {
      "cell_type": "code",
      "source": [
        "class CustomNonPaddingTokenLoss(keras.losses.Loss):\n",
        "    def __init__(self, name=\"custom_ner_loss\"):\n",
        "        super().__init__(name=name)\n",
        "\n",
        "    def call(self, y_true, y_pred):\n",
        "        # calculating the loss directly\n",
        "        loss_fn = keras.losses.SparseCategoricalCrossentropy(\n",
        "            from_logits=True, reduction=keras.losses.Reduction.NONE\n",
        "        )\n",
        "        loss = loss_fn(y_true, y_pred)\n",
        "\n",
        "        # filtering the masked tags\n",
        "        mask = tf.cast((y_true > 0), dtype=tf.float32)\n",
        "        loss = loss * mask\n",
        "\n",
        "        # finging out the ratio\n",
        "        ratio = tf.reduce_sum(loss) / tf.reduce_sum(mask)\n",
        "        return ratio "
      ],
      "metadata": {
        "id": "PW9Rygj0ZFG9"
      },
      "execution_count": 7,
      "outputs": []
    },
    {
      "cell_type": "code",
      "source": [
        "# Define a custom object for saving and loading the model\n",
        "class CustomObjectScope:\n",
        "    def __enter__(self):\n",
        "        self.old_getattr = getattr\n",
        "        setattr(tf.keras.layers, 'TransformerBlock', TransformerBlock)\n",
        "        setattr(tf.keras.layers, 'TokenAndPositionEmbedding', TokenAndPositionEmbedding)\n",
        "        setattr(tf.keras, 'NERModel', NERModel)\n",
        "        setattr(tf.keras.losses, 'CustomNonPaddingTokenLoss', CustomNonPaddingTokenLoss)\n",
        "\n",
        "    def __exit__(self, type, value, traceback):\n",
        "        setattr(tf.keras.layers, 'TransformerBlock', self.old_getattr(tf.keras.layers, 'TransformerBlock'))\n",
        "        setattr(tf.keras.layers, 'TokenAndPositionEmbedding', self.old_getattr(tf.keras.layers, 'TokenAndPositionEmbedding'))\n",
        "        setattr(tf.keras, 'NERModel', self.old_getattr(tf.keras, 'NERModel'))\n",
        "        setattr(tf.keras.losses, 'CustomNonPaddingTokenLoss', self.old_getattr(tf.keras.losses, 'CustomNonPaddingTokenLoss'))"
      ],
      "metadata": {
        "id": "qMU6YTcAZDfx"
      },
      "execution_count": 8,
      "outputs": []
    },
    {
      "cell_type": "markdown",
      "source": [
        "## APP (loading from file)"
      ],
      "metadata": {
        "id": "ni2zr7VGUJj_"
      }
    },
    {
      "cell_type": "markdown",
      "source": [
        "### Declerations & Util Funcs"
      ],
      "metadata": {
        "id": "3Iysrv_hM3P2"
      }
    },
    {
      "cell_type": "code",
      "source": [
        "# File Paths\n",
        "model_path = 'ner_model' \n",
        "mapping = {\n",
        "    0: '[PAD]',\n",
        "    1: 'O', \n",
        "    2: 'B-PER', \n",
        "    3: 'I-PER', \n",
        "    4: 'B-ORG', \n",
        "    5: 'I-ORG', \n",
        "    6: 'B-LOC', \n",
        "    7: 'I-LOC', \n",
        "    8: 'B-MISC', \n",
        "    9: 'I-MISC'\n",
        "}\n",
        "\n",
        "# Load the model\n",
        "with CustomObjectScope():\n",
        "    model = keras.models.load_model(model_path, compile=False)\n",
        "    model.compile(optimizer=\"adam\", loss=CustomNonPaddingTokenLoss())\n",
        "\n",
        "# lookup layer\n",
        "vocabulary  = pickle.load(open(\"vocabulary\", 'rb'))\n",
        "lookup_layer = keras.layers.StringLookup(vocabulary=vocabulary)"
      ],
      "metadata": {
        "id": "WGMWCub3UUT2"
      },
      "execution_count": 11,
      "outputs": []
    },
    {
      "cell_type": "code",
      "source": [
        "def lowercase_and_convert_to_ids(tokens):\n",
        "    tokens = tf.strings.lower(tokens)\n",
        "    return lookup_layer(tokens)\n",
        "\n",
        "def tokenize_and_convert_to_ids(text):\n",
        "    tokens = text.split()\n",
        "    return lowercase_and_convert_to_ids(tokens)\n",
        "\n",
        "def formatting(text, prediction_labels):\n",
        "\n",
        "    # tokenization\n",
        "    prediction_tokens = text.split()\n",
        "\n",
        "    # Generate HTML rendering with NER labels\n",
        "    html = \"\"\n",
        "    i = 0\n",
        "    while i < len(prediction_tokens):\n",
        "        \n",
        "        # unpackaging\n",
        "        token = prediction_tokens[i]\n",
        "        label = prediction_labels[i]\n",
        "        \n",
        "        if label != \"O\":\n",
        "            \n",
        "            # setting the html\n",
        "            html += \"<span style='background-color: #ffff00; font-weight: bold;'>{} ({})</span>\".format(token, label)\n",
        "            j = i + 1\n",
        "            while j < len(prediction_tokens) and prediction_labels[j] == label:\n",
        "                html += \" {}\".format(prediction_tokens[j])\n",
        "                j += 1\n",
        "            html += \" \"\n",
        "            \n",
        "            i = j\n",
        "        else:\n",
        "            html += \"{} \".format(token)\n",
        "            i += 1\n",
        "    return html\n",
        "\n",
        "def predict(text):\n",
        "\n",
        "  # encoding the text\n",
        "  sample_input = tokenize_and_convert_to_ids(text)\n",
        "  sample_input = tf.reshape(sample_input, shape=[1, -1])\n",
        "\n",
        "  # prediction\n",
        "  output = model.predict(sample_input)\n",
        "\n",
        "  # decoding  the results\n",
        "  prediction = np.argmax(output, axis=-1)[0]\n",
        "  prediction = [mapping[i] for i in prediction]\n",
        "\n",
        "  # html formatting for clear output \n",
        "  xml_reult = formatting(text, prediction)\n",
        "  \n",
        "  return xml_reult"
      ],
      "metadata": {
        "id": "U97G4MTz8RxB"
      },
      "execution_count": 12,
      "outputs": []
    },
    {
      "cell_type": "code",
      "source": [
        "predict(\"CRICKET\t-\tLEICESTERSHIRE\tTAKE\tOVER\tAT\tTOP\tAFTER\tINNINGS\tVICTORY\")"
      ],
      "metadata": {
        "colab": {
          "base_uri": "https://localhost:8080/",
          "height": 53
        },
        "id": "vRUZsnhoaCbp",
        "outputId": "2ab24280-3f72-4988-f510-28cb053fe3af"
      },
      "execution_count": 13,
      "outputs": [
        {
          "output_type": "stream",
          "name": "stdout",
          "text": [
            "1/1 [==============================] - 3s 3s/step\n"
          ]
        },
        {
          "output_type": "execute_result",
          "data": {
            "text/plain": [
              "\"CRICKET - <span style='background-color: #ffff00; font-weight: bold;'>LEICESTERSHIRE (B-ORG)</span> TAKE OVER AT TOP AFTER INNINGS VICTORY \""
            ],
            "application/vnd.google.colaboratory.intrinsic+json": {
              "type": "string"
            }
          },
          "metadata": {},
          "execution_count": 13
        }
      ]
    },
    {
      "cell_type": "code",
      "source": [
        "examples = [\n",
        "    \"CRICKET\t-\tLEICESTERSHIRE\tTAKE\tOVER\tAT\tTOP\tAFTER\tINNINGS\tVICTORY\",\n",
        "    \"Result\tand\tclose\tof\tplay\tscores\tin\tEnglish\tcounty\tchampionship\tmatches\ton\tFriday\",\n",
        "    \"Adams\tand\tPlatt\tare\tboth\tinjured\tand\twill\tmiss\tEngland\t's\topening\tWorld\tCup\tqualifier\tagainst\tMoldova\ton\tSunday\",\n",
        "    \"Lying\tthree\tpoints\tbehind\tAlania\tand\ttwo\tbehind\tDynamo\tMoscow\t,\tthe\tVolgograd\tside\thave\ta\tgame\tin\thand\tover\tthe\tleaders\tand\ttwo\tover\tthe\tMoscow\tclub\"\n",
        "]"
      ],
      "metadata": {
        "id": "i4yUt0laTPlE"
      },
      "execution_count": 14,
      "outputs": []
    },
    {
      "cell_type": "markdown",
      "source": [
        "### Launching the app"
      ],
      "metadata": {
        "id": "13t_Clbuhhqd"
      }
    },
    {
      "cell_type": "code",
      "source": [
        "# Interface\n",
        "if_params = {\n",
        "    \"fn\": predict ,\n",
        "    \"inputs\": gr.inputs.Textbox(lines=5, label=\"Text\"),\n",
        "    \"outputs\": gr.outputs.HTML(label=\"NER Output\"),\n",
        "    \"title\": \"Custom Named Entity Recognition Model\",\n",
        "    \"description\": \"Enter a sentence to identify named entities in the text\",\n",
        "    \"examples\":examples\n",
        "}\n",
        "\n",
        "gr.Interface(**if_params).launch()"
      ],
      "metadata": {
        "colab": {
          "base_uri": "https://localhost:8080/",
          "height": 720
        },
        "id": "ayntdlbKP7vl",
        "outputId": "e2862772-50c3-4e3b-b515-2dd193a9a890"
      },
      "execution_count": 15,
      "outputs": [
        {
          "output_type": "stream",
          "name": "stderr",
          "text": [
            "/usr/local/lib/python3.9/dist-packages/gradio/inputs.py:27: UserWarning: Usage of gradio.inputs is deprecated, and will not be supported in the future, please import your component from gradio.components\n",
            "  warnings.warn(\n",
            "/usr/local/lib/python3.9/dist-packages/gradio/deprecation.py:40: UserWarning: `optional` parameter is deprecated, and it has no effect\n",
            "  warnings.warn(value)\n",
            "/usr/local/lib/python3.9/dist-packages/gradio/deprecation.py:40: UserWarning: `numeric` parameter is deprecated, and it has no effect\n",
            "  warnings.warn(value)\n"
          ]
        },
        {
          "output_type": "stream",
          "name": "stdout",
          "text": [
            "Colab notebook detected. To show errors in colab notebook, set debug=True in launch()\n",
            "Note: opening Chrome Inspector may crash demo inside Colab notebooks.\n",
            "\n",
            "To create a public link, set `share=True` in `launch()`.\n"
          ]
        },
        {
          "output_type": "display_data",
          "data": {
            "text/plain": [
              "<IPython.core.display.Javascript object>"
            ],
            "application/javascript": [
              "(async (port, path, width, height, cache, element) => {\n",
              "                        if (!google.colab.kernel.accessAllowed && !cache) {\n",
              "                            return;\n",
              "                        }\n",
              "                        element.appendChild(document.createTextNode(''));\n",
              "                        const url = await google.colab.kernel.proxyPort(port, {cache});\n",
              "\n",
              "                        const external_link = document.createElement('div');\n",
              "                        external_link.innerHTML = `\n",
              "                            <div style=\"font-family: monospace; margin-bottom: 0.5rem\">\n",
              "                                Running on <a href=${new URL(path, url).toString()} target=\"_blank\">\n",
              "                                    https://localhost:${port}${path}\n",
              "                                </a>\n",
              "                            </div>\n",
              "                        `;\n",
              "                        element.appendChild(external_link);\n",
              "\n",
              "                        const iframe = document.createElement('iframe');\n",
              "                        iframe.src = new URL(path, url).toString();\n",
              "                        iframe.height = height;\n",
              "                        iframe.allow = \"autoplay; camera; microphone; clipboard-read; clipboard-write;\"\n",
              "                        iframe.width = width;\n",
              "                        iframe.style.border = 0;\n",
              "                        element.appendChild(iframe);\n",
              "                    })(7860, \"/\", \"100%\", 500, false, window.element)"
            ]
          },
          "metadata": {}
        },
        {
          "output_type": "execute_result",
          "data": {
            "text/plain": []
          },
          "metadata": {},
          "execution_count": 15
        }
      ]
    },
    {
      "cell_type": "code",
      "source": [],
      "metadata": {
        "id": "FgeRoe-8jaDH"
      },
      "execution_count": null,
      "outputs": []
    }
  ],
  "metadata": {
    "accelerator": "GPU",
    "colab": {
      "provenance": []
    },
    "kernelspec": {
      "display_name": "Python 3",
      "language": "python",
      "name": "python3"
    },
    "language_info": {
      "codemirror_mode": {
        "name": "ipython",
        "version": 3
      },
      "file_extension": ".py",
      "mimetype": "text/x-python",
      "name": "python",
      "nbconvert_exporter": "python",
      "pygments_lexer": "ipython3",
      "version": "3.7.0"
    },
    "widgets": {
      "application/vnd.jupyter.widget-state+json": {
        "617b385c1b1c4138ae2f115cfc5d25d1": {
          "model_module": "@jupyter-widgets/controls",
          "model_name": "HBoxModel",
          "model_module_version": "1.5.0",
          "state": {
            "_dom_classes": [],
            "_model_module": "@jupyter-widgets/controls",
            "_model_module_version": "1.5.0",
            "_model_name": "HBoxModel",
            "_view_count": null,
            "_view_module": "@jupyter-widgets/controls",
            "_view_module_version": "1.5.0",
            "_view_name": "HBoxView",
            "box_style": "",
            "children": [
              "IPY_MODEL_3e3122943d3e4da4a02b837896587309",
              "IPY_MODEL_9cfafa735c9a45d88bc98f173643f8b5",
              "IPY_MODEL_e5d3020b80d94aedae206b0c2eef30a1"
            ],
            "layout": "IPY_MODEL_527c76fee3bc479b85ada754d76cd1c4"
          }
        },
        "3e3122943d3e4da4a02b837896587309": {
          "model_module": "@jupyter-widgets/controls",
          "model_name": "HTMLModel",
          "model_module_version": "1.5.0",
          "state": {
            "_dom_classes": [],
            "_model_module": "@jupyter-widgets/controls",
            "_model_module_version": "1.5.0",
            "_model_name": "HTMLModel",
            "_view_count": null,
            "_view_module": "@jupyter-widgets/controls",
            "_view_module_version": "1.5.0",
            "_view_name": "HTMLView",
            "description": "",
            "description_tooltip": null,
            "layout": "IPY_MODEL_74f20cf3a00d443a88101042cf0e5c6d",
            "placeholder": "​",
            "style": "IPY_MODEL_3c21f81065214d1e8590846a4f11ed52",
            "value": "Downloading builder script: 100%"
          }
        },
        "9cfafa735c9a45d88bc98f173643f8b5": {
          "model_module": "@jupyter-widgets/controls",
          "model_name": "FloatProgressModel",
          "model_module_version": "1.5.0",
          "state": {
            "_dom_classes": [],
            "_model_module": "@jupyter-widgets/controls",
            "_model_module_version": "1.5.0",
            "_model_name": "FloatProgressModel",
            "_view_count": null,
            "_view_module": "@jupyter-widgets/controls",
            "_view_module_version": "1.5.0",
            "_view_name": "ProgressView",
            "bar_style": "success",
            "description": "",
            "description_tooltip": null,
            "layout": "IPY_MODEL_e57ec221d3b24c8d836f8e4944872f17",
            "max": 9570,
            "min": 0,
            "orientation": "horizontal",
            "style": "IPY_MODEL_b82cfccd9ef54b3d929d0c93d4a60d53",
            "value": 9570
          }
        },
        "e5d3020b80d94aedae206b0c2eef30a1": {
          "model_module": "@jupyter-widgets/controls",
          "model_name": "HTMLModel",
          "model_module_version": "1.5.0",
          "state": {
            "_dom_classes": [],
            "_model_module": "@jupyter-widgets/controls",
            "_model_module_version": "1.5.0",
            "_model_name": "HTMLModel",
            "_view_count": null,
            "_view_module": "@jupyter-widgets/controls",
            "_view_module_version": "1.5.0",
            "_view_name": "HTMLView",
            "description": "",
            "description_tooltip": null,
            "layout": "IPY_MODEL_0599e029eb53443ebab578b97c65e5eb",
            "placeholder": "​",
            "style": "IPY_MODEL_e42d9a3738b84d8795a387f772b76f82",
            "value": " 9.57k/9.57k [00:00&lt;00:00, 496kB/s]"
          }
        },
        "527c76fee3bc479b85ada754d76cd1c4": {
          "model_module": "@jupyter-widgets/base",
          "model_name": "LayoutModel",
          "model_module_version": "1.2.0",
          "state": {
            "_model_module": "@jupyter-widgets/base",
            "_model_module_version": "1.2.0",
            "_model_name": "LayoutModel",
            "_view_count": null,
            "_view_module": "@jupyter-widgets/base",
            "_view_module_version": "1.2.0",
            "_view_name": "LayoutView",
            "align_content": null,
            "align_items": null,
            "align_self": null,
            "border": null,
            "bottom": null,
            "display": null,
            "flex": null,
            "flex_flow": null,
            "grid_area": null,
            "grid_auto_columns": null,
            "grid_auto_flow": null,
            "grid_auto_rows": null,
            "grid_column": null,
            "grid_gap": null,
            "grid_row": null,
            "grid_template_areas": null,
            "grid_template_columns": null,
            "grid_template_rows": null,
            "height": null,
            "justify_content": null,
            "justify_items": null,
            "left": null,
            "margin": null,
            "max_height": null,
            "max_width": null,
            "min_height": null,
            "min_width": null,
            "object_fit": null,
            "object_position": null,
            "order": null,
            "overflow": null,
            "overflow_x": null,
            "overflow_y": null,
            "padding": null,
            "right": null,
            "top": null,
            "visibility": null,
            "width": null
          }
        },
        "74f20cf3a00d443a88101042cf0e5c6d": {
          "model_module": "@jupyter-widgets/base",
          "model_name": "LayoutModel",
          "model_module_version": "1.2.0",
          "state": {
            "_model_module": "@jupyter-widgets/base",
            "_model_module_version": "1.2.0",
            "_model_name": "LayoutModel",
            "_view_count": null,
            "_view_module": "@jupyter-widgets/base",
            "_view_module_version": "1.2.0",
            "_view_name": "LayoutView",
            "align_content": null,
            "align_items": null,
            "align_self": null,
            "border": null,
            "bottom": null,
            "display": null,
            "flex": null,
            "flex_flow": null,
            "grid_area": null,
            "grid_auto_columns": null,
            "grid_auto_flow": null,
            "grid_auto_rows": null,
            "grid_column": null,
            "grid_gap": null,
            "grid_row": null,
            "grid_template_areas": null,
            "grid_template_columns": null,
            "grid_template_rows": null,
            "height": null,
            "justify_content": null,
            "justify_items": null,
            "left": null,
            "margin": null,
            "max_height": null,
            "max_width": null,
            "min_height": null,
            "min_width": null,
            "object_fit": null,
            "object_position": null,
            "order": null,
            "overflow": null,
            "overflow_x": null,
            "overflow_y": null,
            "padding": null,
            "right": null,
            "top": null,
            "visibility": null,
            "width": null
          }
        },
        "3c21f81065214d1e8590846a4f11ed52": {
          "model_module": "@jupyter-widgets/controls",
          "model_name": "DescriptionStyleModel",
          "model_module_version": "1.5.0",
          "state": {
            "_model_module": "@jupyter-widgets/controls",
            "_model_module_version": "1.5.0",
            "_model_name": "DescriptionStyleModel",
            "_view_count": null,
            "_view_module": "@jupyter-widgets/base",
            "_view_module_version": "1.2.0",
            "_view_name": "StyleView",
            "description_width": ""
          }
        },
        "e57ec221d3b24c8d836f8e4944872f17": {
          "model_module": "@jupyter-widgets/base",
          "model_name": "LayoutModel",
          "model_module_version": "1.2.0",
          "state": {
            "_model_module": "@jupyter-widgets/base",
            "_model_module_version": "1.2.0",
            "_model_name": "LayoutModel",
            "_view_count": null,
            "_view_module": "@jupyter-widgets/base",
            "_view_module_version": "1.2.0",
            "_view_name": "LayoutView",
            "align_content": null,
            "align_items": null,
            "align_self": null,
            "border": null,
            "bottom": null,
            "display": null,
            "flex": null,
            "flex_flow": null,
            "grid_area": null,
            "grid_auto_columns": null,
            "grid_auto_flow": null,
            "grid_auto_rows": null,
            "grid_column": null,
            "grid_gap": null,
            "grid_row": null,
            "grid_template_areas": null,
            "grid_template_columns": null,
            "grid_template_rows": null,
            "height": null,
            "justify_content": null,
            "justify_items": null,
            "left": null,
            "margin": null,
            "max_height": null,
            "max_width": null,
            "min_height": null,
            "min_width": null,
            "object_fit": null,
            "object_position": null,
            "order": null,
            "overflow": null,
            "overflow_x": null,
            "overflow_y": null,
            "padding": null,
            "right": null,
            "top": null,
            "visibility": null,
            "width": null
          }
        },
        "b82cfccd9ef54b3d929d0c93d4a60d53": {
          "model_module": "@jupyter-widgets/controls",
          "model_name": "ProgressStyleModel",
          "model_module_version": "1.5.0",
          "state": {
            "_model_module": "@jupyter-widgets/controls",
            "_model_module_version": "1.5.0",
            "_model_name": "ProgressStyleModel",
            "_view_count": null,
            "_view_module": "@jupyter-widgets/base",
            "_view_module_version": "1.2.0",
            "_view_name": "StyleView",
            "bar_color": null,
            "description_width": ""
          }
        },
        "0599e029eb53443ebab578b97c65e5eb": {
          "model_module": "@jupyter-widgets/base",
          "model_name": "LayoutModel",
          "model_module_version": "1.2.0",
          "state": {
            "_model_module": "@jupyter-widgets/base",
            "_model_module_version": "1.2.0",
            "_model_name": "LayoutModel",
            "_view_count": null,
            "_view_module": "@jupyter-widgets/base",
            "_view_module_version": "1.2.0",
            "_view_name": "LayoutView",
            "align_content": null,
            "align_items": null,
            "align_self": null,
            "border": null,
            "bottom": null,
            "display": null,
            "flex": null,
            "flex_flow": null,
            "grid_area": null,
            "grid_auto_columns": null,
            "grid_auto_flow": null,
            "grid_auto_rows": null,
            "grid_column": null,
            "grid_gap": null,
            "grid_row": null,
            "grid_template_areas": null,
            "grid_template_columns": null,
            "grid_template_rows": null,
            "height": null,
            "justify_content": null,
            "justify_items": null,
            "left": null,
            "margin": null,
            "max_height": null,
            "max_width": null,
            "min_height": null,
            "min_width": null,
            "object_fit": null,
            "object_position": null,
            "order": null,
            "overflow": null,
            "overflow_x": null,
            "overflow_y": null,
            "padding": null,
            "right": null,
            "top": null,
            "visibility": null,
            "width": null
          }
        },
        "e42d9a3738b84d8795a387f772b76f82": {
          "model_module": "@jupyter-widgets/controls",
          "model_name": "DescriptionStyleModel",
          "model_module_version": "1.5.0",
          "state": {
            "_model_module": "@jupyter-widgets/controls",
            "_model_module_version": "1.5.0",
            "_model_name": "DescriptionStyleModel",
            "_view_count": null,
            "_view_module": "@jupyter-widgets/base",
            "_view_module_version": "1.2.0",
            "_view_name": "StyleView",
            "description_width": ""
          }
        },
        "6e7d563350754022a81963c1f2ada019": {
          "model_module": "@jupyter-widgets/controls",
          "model_name": "HBoxModel",
          "model_module_version": "1.5.0",
          "state": {
            "_dom_classes": [],
            "_model_module": "@jupyter-widgets/controls",
            "_model_module_version": "1.5.0",
            "_model_name": "HBoxModel",
            "_view_count": null,
            "_view_module": "@jupyter-widgets/controls",
            "_view_module_version": "1.5.0",
            "_view_name": "HBoxView",
            "box_style": "",
            "children": [
              "IPY_MODEL_171ea0ef11384724801810cbaa5d0b4e",
              "IPY_MODEL_ba17662164ba42b7ad07cf5e13327518",
              "IPY_MODEL_67f8268e9d5c49278cfd231cfa48a210"
            ],
            "layout": "IPY_MODEL_3c6cfaec20a04f1ba5c426aefc7779b0"
          }
        },
        "171ea0ef11384724801810cbaa5d0b4e": {
          "model_module": "@jupyter-widgets/controls",
          "model_name": "HTMLModel",
          "model_module_version": "1.5.0",
          "state": {
            "_dom_classes": [],
            "_model_module": "@jupyter-widgets/controls",
            "_model_module_version": "1.5.0",
            "_model_name": "HTMLModel",
            "_view_count": null,
            "_view_module": "@jupyter-widgets/controls",
            "_view_module_version": "1.5.0",
            "_view_name": "HTMLView",
            "description": "",
            "description_tooltip": null,
            "layout": "IPY_MODEL_253332172301433aa2d785e8dcc8805c",
            "placeholder": "​",
            "style": "IPY_MODEL_47d59095fb554eefb91a97bd34148224",
            "value": "Downloading metadata: 100%"
          }
        },
        "ba17662164ba42b7ad07cf5e13327518": {
          "model_module": "@jupyter-widgets/controls",
          "model_name": "FloatProgressModel",
          "model_module_version": "1.5.0",
          "state": {
            "_dom_classes": [],
            "_model_module": "@jupyter-widgets/controls",
            "_model_module_version": "1.5.0",
            "_model_name": "FloatProgressModel",
            "_view_count": null,
            "_view_module": "@jupyter-widgets/controls",
            "_view_module_version": "1.5.0",
            "_view_name": "ProgressView",
            "bar_style": "success",
            "description": "",
            "description_tooltip": null,
            "layout": "IPY_MODEL_d7f4529cdfef4853977f7d2f0160eb1c",
            "max": 3735,
            "min": 0,
            "orientation": "horizontal",
            "style": "IPY_MODEL_f4595d726b754125b3f046db1b4e91c0",
            "value": 3735
          }
        },
        "67f8268e9d5c49278cfd231cfa48a210": {
          "model_module": "@jupyter-widgets/controls",
          "model_name": "HTMLModel",
          "model_module_version": "1.5.0",
          "state": {
            "_dom_classes": [],
            "_model_module": "@jupyter-widgets/controls",
            "_model_module_version": "1.5.0",
            "_model_name": "HTMLModel",
            "_view_count": null,
            "_view_module": "@jupyter-widgets/controls",
            "_view_module_version": "1.5.0",
            "_view_name": "HTMLView",
            "description": "",
            "description_tooltip": null,
            "layout": "IPY_MODEL_a850f218e62841b39aa12871b8fa9ad6",
            "placeholder": "​",
            "style": "IPY_MODEL_4f500eee94564b81b402981c7aa317d6",
            "value": " 3.73k/3.73k [00:00&lt;00:00, 220kB/s]"
          }
        },
        "3c6cfaec20a04f1ba5c426aefc7779b0": {
          "model_module": "@jupyter-widgets/base",
          "model_name": "LayoutModel",
          "model_module_version": "1.2.0",
          "state": {
            "_model_module": "@jupyter-widgets/base",
            "_model_module_version": "1.2.0",
            "_model_name": "LayoutModel",
            "_view_count": null,
            "_view_module": "@jupyter-widgets/base",
            "_view_module_version": "1.2.0",
            "_view_name": "LayoutView",
            "align_content": null,
            "align_items": null,
            "align_self": null,
            "border": null,
            "bottom": null,
            "display": null,
            "flex": null,
            "flex_flow": null,
            "grid_area": null,
            "grid_auto_columns": null,
            "grid_auto_flow": null,
            "grid_auto_rows": null,
            "grid_column": null,
            "grid_gap": null,
            "grid_row": null,
            "grid_template_areas": null,
            "grid_template_columns": null,
            "grid_template_rows": null,
            "height": null,
            "justify_content": null,
            "justify_items": null,
            "left": null,
            "margin": null,
            "max_height": null,
            "max_width": null,
            "min_height": null,
            "min_width": null,
            "object_fit": null,
            "object_position": null,
            "order": null,
            "overflow": null,
            "overflow_x": null,
            "overflow_y": null,
            "padding": null,
            "right": null,
            "top": null,
            "visibility": null,
            "width": null
          }
        },
        "253332172301433aa2d785e8dcc8805c": {
          "model_module": "@jupyter-widgets/base",
          "model_name": "LayoutModel",
          "model_module_version": "1.2.0",
          "state": {
            "_model_module": "@jupyter-widgets/base",
            "_model_module_version": "1.2.0",
            "_model_name": "LayoutModel",
            "_view_count": null,
            "_view_module": "@jupyter-widgets/base",
            "_view_module_version": "1.2.0",
            "_view_name": "LayoutView",
            "align_content": null,
            "align_items": null,
            "align_self": null,
            "border": null,
            "bottom": null,
            "display": null,
            "flex": null,
            "flex_flow": null,
            "grid_area": null,
            "grid_auto_columns": null,
            "grid_auto_flow": null,
            "grid_auto_rows": null,
            "grid_column": null,
            "grid_gap": null,
            "grid_row": null,
            "grid_template_areas": null,
            "grid_template_columns": null,
            "grid_template_rows": null,
            "height": null,
            "justify_content": null,
            "justify_items": null,
            "left": null,
            "margin": null,
            "max_height": null,
            "max_width": null,
            "min_height": null,
            "min_width": null,
            "object_fit": null,
            "object_position": null,
            "order": null,
            "overflow": null,
            "overflow_x": null,
            "overflow_y": null,
            "padding": null,
            "right": null,
            "top": null,
            "visibility": null,
            "width": null
          }
        },
        "47d59095fb554eefb91a97bd34148224": {
          "model_module": "@jupyter-widgets/controls",
          "model_name": "DescriptionStyleModel",
          "model_module_version": "1.5.0",
          "state": {
            "_model_module": "@jupyter-widgets/controls",
            "_model_module_version": "1.5.0",
            "_model_name": "DescriptionStyleModel",
            "_view_count": null,
            "_view_module": "@jupyter-widgets/base",
            "_view_module_version": "1.2.0",
            "_view_name": "StyleView",
            "description_width": ""
          }
        },
        "d7f4529cdfef4853977f7d2f0160eb1c": {
          "model_module": "@jupyter-widgets/base",
          "model_name": "LayoutModel",
          "model_module_version": "1.2.0",
          "state": {
            "_model_module": "@jupyter-widgets/base",
            "_model_module_version": "1.2.0",
            "_model_name": "LayoutModel",
            "_view_count": null,
            "_view_module": "@jupyter-widgets/base",
            "_view_module_version": "1.2.0",
            "_view_name": "LayoutView",
            "align_content": null,
            "align_items": null,
            "align_self": null,
            "border": null,
            "bottom": null,
            "display": null,
            "flex": null,
            "flex_flow": null,
            "grid_area": null,
            "grid_auto_columns": null,
            "grid_auto_flow": null,
            "grid_auto_rows": null,
            "grid_column": null,
            "grid_gap": null,
            "grid_row": null,
            "grid_template_areas": null,
            "grid_template_columns": null,
            "grid_template_rows": null,
            "height": null,
            "justify_content": null,
            "justify_items": null,
            "left": null,
            "margin": null,
            "max_height": null,
            "max_width": null,
            "min_height": null,
            "min_width": null,
            "object_fit": null,
            "object_position": null,
            "order": null,
            "overflow": null,
            "overflow_x": null,
            "overflow_y": null,
            "padding": null,
            "right": null,
            "top": null,
            "visibility": null,
            "width": null
          }
        },
        "f4595d726b754125b3f046db1b4e91c0": {
          "model_module": "@jupyter-widgets/controls",
          "model_name": "ProgressStyleModel",
          "model_module_version": "1.5.0",
          "state": {
            "_model_module": "@jupyter-widgets/controls",
            "_model_module_version": "1.5.0",
            "_model_name": "ProgressStyleModel",
            "_view_count": null,
            "_view_module": "@jupyter-widgets/base",
            "_view_module_version": "1.2.0",
            "_view_name": "StyleView",
            "bar_color": null,
            "description_width": ""
          }
        },
        "a850f218e62841b39aa12871b8fa9ad6": {
          "model_module": "@jupyter-widgets/base",
          "model_name": "LayoutModel",
          "model_module_version": "1.2.0",
          "state": {
            "_model_module": "@jupyter-widgets/base",
            "_model_module_version": "1.2.0",
            "_model_name": "LayoutModel",
            "_view_count": null,
            "_view_module": "@jupyter-widgets/base",
            "_view_module_version": "1.2.0",
            "_view_name": "LayoutView",
            "align_content": null,
            "align_items": null,
            "align_self": null,
            "border": null,
            "bottom": null,
            "display": null,
            "flex": null,
            "flex_flow": null,
            "grid_area": null,
            "grid_auto_columns": null,
            "grid_auto_flow": null,
            "grid_auto_rows": null,
            "grid_column": null,
            "grid_gap": null,
            "grid_row": null,
            "grid_template_areas": null,
            "grid_template_columns": null,
            "grid_template_rows": null,
            "height": null,
            "justify_content": null,
            "justify_items": null,
            "left": null,
            "margin": null,
            "max_height": null,
            "max_width": null,
            "min_height": null,
            "min_width": null,
            "object_fit": null,
            "object_position": null,
            "order": null,
            "overflow": null,
            "overflow_x": null,
            "overflow_y": null,
            "padding": null,
            "right": null,
            "top": null,
            "visibility": null,
            "width": null
          }
        },
        "4f500eee94564b81b402981c7aa317d6": {
          "model_module": "@jupyter-widgets/controls",
          "model_name": "DescriptionStyleModel",
          "model_module_version": "1.5.0",
          "state": {
            "_model_module": "@jupyter-widgets/controls",
            "_model_module_version": "1.5.0",
            "_model_name": "DescriptionStyleModel",
            "_view_count": null,
            "_view_module": "@jupyter-widgets/base",
            "_view_module_version": "1.2.0",
            "_view_name": "StyleView",
            "description_width": ""
          }
        },
        "36483763189044368d84e01f4155edf1": {
          "model_module": "@jupyter-widgets/controls",
          "model_name": "HBoxModel",
          "model_module_version": "1.5.0",
          "state": {
            "_dom_classes": [],
            "_model_module": "@jupyter-widgets/controls",
            "_model_module_version": "1.5.0",
            "_model_name": "HBoxModel",
            "_view_count": null,
            "_view_module": "@jupyter-widgets/controls",
            "_view_module_version": "1.5.0",
            "_view_name": "HBoxView",
            "box_style": "",
            "children": [
              "IPY_MODEL_8ee0cc414cf74ef7a2d7e8b9bac518f3",
              "IPY_MODEL_0d3570ff34ac454f892a1008a14b61a9",
              "IPY_MODEL_7c4fc77fbb994df0adbea7bbd0b40699"
            ],
            "layout": "IPY_MODEL_f15977a256ec438298b41022e810b70a"
          }
        },
        "8ee0cc414cf74ef7a2d7e8b9bac518f3": {
          "model_module": "@jupyter-widgets/controls",
          "model_name": "HTMLModel",
          "model_module_version": "1.5.0",
          "state": {
            "_dom_classes": [],
            "_model_module": "@jupyter-widgets/controls",
            "_model_module_version": "1.5.0",
            "_model_name": "HTMLModel",
            "_view_count": null,
            "_view_module": "@jupyter-widgets/controls",
            "_view_module_version": "1.5.0",
            "_view_name": "HTMLView",
            "description": "",
            "description_tooltip": null,
            "layout": "IPY_MODEL_f625c233093d46c88bdb23c5dde92e88",
            "placeholder": "​",
            "style": "IPY_MODEL_f049cfb762944af39ad40b0606d51ac5",
            "value": "Downloading readme: 100%"
          }
        },
        "0d3570ff34ac454f892a1008a14b61a9": {
          "model_module": "@jupyter-widgets/controls",
          "model_name": "FloatProgressModel",
          "model_module_version": "1.5.0",
          "state": {
            "_dom_classes": [],
            "_model_module": "@jupyter-widgets/controls",
            "_model_module_version": "1.5.0",
            "_model_name": "FloatProgressModel",
            "_view_count": null,
            "_view_module": "@jupyter-widgets/controls",
            "_view_module_version": "1.5.0",
            "_view_name": "ProgressView",
            "bar_style": "success",
            "description": "",
            "description_tooltip": null,
            "layout": "IPY_MODEL_92e13e2a1ce44381b05dd8c47e55fd6a",
            "max": 12328,
            "min": 0,
            "orientation": "horizontal",
            "style": "IPY_MODEL_16f6bf1969f74a9abf626bb5e5cb0155",
            "value": 12328
          }
        },
        "7c4fc77fbb994df0adbea7bbd0b40699": {
          "model_module": "@jupyter-widgets/controls",
          "model_name": "HTMLModel",
          "model_module_version": "1.5.0",
          "state": {
            "_dom_classes": [],
            "_model_module": "@jupyter-widgets/controls",
            "_model_module_version": "1.5.0",
            "_model_name": "HTMLModel",
            "_view_count": null,
            "_view_module": "@jupyter-widgets/controls",
            "_view_module_version": "1.5.0",
            "_view_name": "HTMLView",
            "description": "",
            "description_tooltip": null,
            "layout": "IPY_MODEL_aaba5c5723384b64bf63387158f31885",
            "placeholder": "​",
            "style": "IPY_MODEL_a9e111cbcbc54b629ac73547b8e7d3e8",
            "value": " 12.3k/12.3k [00:00&lt;00:00, 808kB/s]"
          }
        },
        "f15977a256ec438298b41022e810b70a": {
          "model_module": "@jupyter-widgets/base",
          "model_name": "LayoutModel",
          "model_module_version": "1.2.0",
          "state": {
            "_model_module": "@jupyter-widgets/base",
            "_model_module_version": "1.2.0",
            "_model_name": "LayoutModel",
            "_view_count": null,
            "_view_module": "@jupyter-widgets/base",
            "_view_module_version": "1.2.0",
            "_view_name": "LayoutView",
            "align_content": null,
            "align_items": null,
            "align_self": null,
            "border": null,
            "bottom": null,
            "display": null,
            "flex": null,
            "flex_flow": null,
            "grid_area": null,
            "grid_auto_columns": null,
            "grid_auto_flow": null,
            "grid_auto_rows": null,
            "grid_column": null,
            "grid_gap": null,
            "grid_row": null,
            "grid_template_areas": null,
            "grid_template_columns": null,
            "grid_template_rows": null,
            "height": null,
            "justify_content": null,
            "justify_items": null,
            "left": null,
            "margin": null,
            "max_height": null,
            "max_width": null,
            "min_height": null,
            "min_width": null,
            "object_fit": null,
            "object_position": null,
            "order": null,
            "overflow": null,
            "overflow_x": null,
            "overflow_y": null,
            "padding": null,
            "right": null,
            "top": null,
            "visibility": null,
            "width": null
          }
        },
        "f625c233093d46c88bdb23c5dde92e88": {
          "model_module": "@jupyter-widgets/base",
          "model_name": "LayoutModel",
          "model_module_version": "1.2.0",
          "state": {
            "_model_module": "@jupyter-widgets/base",
            "_model_module_version": "1.2.0",
            "_model_name": "LayoutModel",
            "_view_count": null,
            "_view_module": "@jupyter-widgets/base",
            "_view_module_version": "1.2.0",
            "_view_name": "LayoutView",
            "align_content": null,
            "align_items": null,
            "align_self": null,
            "border": null,
            "bottom": null,
            "display": null,
            "flex": null,
            "flex_flow": null,
            "grid_area": null,
            "grid_auto_columns": null,
            "grid_auto_flow": null,
            "grid_auto_rows": null,
            "grid_column": null,
            "grid_gap": null,
            "grid_row": null,
            "grid_template_areas": null,
            "grid_template_columns": null,
            "grid_template_rows": null,
            "height": null,
            "justify_content": null,
            "justify_items": null,
            "left": null,
            "margin": null,
            "max_height": null,
            "max_width": null,
            "min_height": null,
            "min_width": null,
            "object_fit": null,
            "object_position": null,
            "order": null,
            "overflow": null,
            "overflow_x": null,
            "overflow_y": null,
            "padding": null,
            "right": null,
            "top": null,
            "visibility": null,
            "width": null
          }
        },
        "f049cfb762944af39ad40b0606d51ac5": {
          "model_module": "@jupyter-widgets/controls",
          "model_name": "DescriptionStyleModel",
          "model_module_version": "1.5.0",
          "state": {
            "_model_module": "@jupyter-widgets/controls",
            "_model_module_version": "1.5.0",
            "_model_name": "DescriptionStyleModel",
            "_view_count": null,
            "_view_module": "@jupyter-widgets/base",
            "_view_module_version": "1.2.0",
            "_view_name": "StyleView",
            "description_width": ""
          }
        },
        "92e13e2a1ce44381b05dd8c47e55fd6a": {
          "model_module": "@jupyter-widgets/base",
          "model_name": "LayoutModel",
          "model_module_version": "1.2.0",
          "state": {
            "_model_module": "@jupyter-widgets/base",
            "_model_module_version": "1.2.0",
            "_model_name": "LayoutModel",
            "_view_count": null,
            "_view_module": "@jupyter-widgets/base",
            "_view_module_version": "1.2.0",
            "_view_name": "LayoutView",
            "align_content": null,
            "align_items": null,
            "align_self": null,
            "border": null,
            "bottom": null,
            "display": null,
            "flex": null,
            "flex_flow": null,
            "grid_area": null,
            "grid_auto_columns": null,
            "grid_auto_flow": null,
            "grid_auto_rows": null,
            "grid_column": null,
            "grid_gap": null,
            "grid_row": null,
            "grid_template_areas": null,
            "grid_template_columns": null,
            "grid_template_rows": null,
            "height": null,
            "justify_content": null,
            "justify_items": null,
            "left": null,
            "margin": null,
            "max_height": null,
            "max_width": null,
            "min_height": null,
            "min_width": null,
            "object_fit": null,
            "object_position": null,
            "order": null,
            "overflow": null,
            "overflow_x": null,
            "overflow_y": null,
            "padding": null,
            "right": null,
            "top": null,
            "visibility": null,
            "width": null
          }
        },
        "16f6bf1969f74a9abf626bb5e5cb0155": {
          "model_module": "@jupyter-widgets/controls",
          "model_name": "ProgressStyleModel",
          "model_module_version": "1.5.0",
          "state": {
            "_model_module": "@jupyter-widgets/controls",
            "_model_module_version": "1.5.0",
            "_model_name": "ProgressStyleModel",
            "_view_count": null,
            "_view_module": "@jupyter-widgets/base",
            "_view_module_version": "1.2.0",
            "_view_name": "StyleView",
            "bar_color": null,
            "description_width": ""
          }
        },
        "aaba5c5723384b64bf63387158f31885": {
          "model_module": "@jupyter-widgets/base",
          "model_name": "LayoutModel",
          "model_module_version": "1.2.0",
          "state": {
            "_model_module": "@jupyter-widgets/base",
            "_model_module_version": "1.2.0",
            "_model_name": "LayoutModel",
            "_view_count": null,
            "_view_module": "@jupyter-widgets/base",
            "_view_module_version": "1.2.0",
            "_view_name": "LayoutView",
            "align_content": null,
            "align_items": null,
            "align_self": null,
            "border": null,
            "bottom": null,
            "display": null,
            "flex": null,
            "flex_flow": null,
            "grid_area": null,
            "grid_auto_columns": null,
            "grid_auto_flow": null,
            "grid_auto_rows": null,
            "grid_column": null,
            "grid_gap": null,
            "grid_row": null,
            "grid_template_areas": null,
            "grid_template_columns": null,
            "grid_template_rows": null,
            "height": null,
            "justify_content": null,
            "justify_items": null,
            "left": null,
            "margin": null,
            "max_height": null,
            "max_width": null,
            "min_height": null,
            "min_width": null,
            "object_fit": null,
            "object_position": null,
            "order": null,
            "overflow": null,
            "overflow_x": null,
            "overflow_y": null,
            "padding": null,
            "right": null,
            "top": null,
            "visibility": null,
            "width": null
          }
        },
        "a9e111cbcbc54b629ac73547b8e7d3e8": {
          "model_module": "@jupyter-widgets/controls",
          "model_name": "DescriptionStyleModel",
          "model_module_version": "1.5.0",
          "state": {
            "_model_module": "@jupyter-widgets/controls",
            "_model_module_version": "1.5.0",
            "_model_name": "DescriptionStyleModel",
            "_view_count": null,
            "_view_module": "@jupyter-widgets/base",
            "_view_module_version": "1.2.0",
            "_view_name": "StyleView",
            "description_width": ""
          }
        },
        "bebe56cf7c514790986887add72420db": {
          "model_module": "@jupyter-widgets/controls",
          "model_name": "HBoxModel",
          "model_module_version": "1.5.0",
          "state": {
            "_dom_classes": [],
            "_model_module": "@jupyter-widgets/controls",
            "_model_module_version": "1.5.0",
            "_model_name": "HBoxModel",
            "_view_count": null,
            "_view_module": "@jupyter-widgets/controls",
            "_view_module_version": "1.5.0",
            "_view_name": "HBoxView",
            "box_style": "",
            "children": [
              "IPY_MODEL_c16c5d3a6206482bb0d1d8d1978c5a34",
              "IPY_MODEL_7b5eaeee574f4de8aa1af8ed65ad25b8",
              "IPY_MODEL_9e874928726e427cacdb2af4b4031f5a"
            ],
            "layout": "IPY_MODEL_e860d572bfd848d38dbebf8166af2832"
          }
        },
        "c16c5d3a6206482bb0d1d8d1978c5a34": {
          "model_module": "@jupyter-widgets/controls",
          "model_name": "HTMLModel",
          "model_module_version": "1.5.0",
          "state": {
            "_dom_classes": [],
            "_model_module": "@jupyter-widgets/controls",
            "_model_module_version": "1.5.0",
            "_model_name": "HTMLModel",
            "_view_count": null,
            "_view_module": "@jupyter-widgets/controls",
            "_view_module_version": "1.5.0",
            "_view_name": "HTMLView",
            "description": "",
            "description_tooltip": null,
            "layout": "IPY_MODEL_bab0b31488bc400f8ca9a7703922b344",
            "placeholder": "​",
            "style": "IPY_MODEL_911bdb2fc33f4af8a6b1b5eca1778579",
            "value": "Downloading data: 100%"
          }
        },
        "7b5eaeee574f4de8aa1af8ed65ad25b8": {
          "model_module": "@jupyter-widgets/controls",
          "model_name": "FloatProgressModel",
          "model_module_version": "1.5.0",
          "state": {
            "_dom_classes": [],
            "_model_module": "@jupyter-widgets/controls",
            "_model_module_version": "1.5.0",
            "_model_name": "FloatProgressModel",
            "_view_count": null,
            "_view_module": "@jupyter-widgets/controls",
            "_view_module_version": "1.5.0",
            "_view_name": "ProgressView",
            "bar_style": "success",
            "description": "",
            "description_tooltip": null,
            "layout": "IPY_MODEL_cad6bee0f40c40cc90e57ee82c1278f7",
            "max": 982975,
            "min": 0,
            "orientation": "horizontal",
            "style": "IPY_MODEL_ffe5548ae2714a8ba014c05346936f21",
            "value": 982975
          }
        },
        "9e874928726e427cacdb2af4b4031f5a": {
          "model_module": "@jupyter-widgets/controls",
          "model_name": "HTMLModel",
          "model_module_version": "1.5.0",
          "state": {
            "_dom_classes": [],
            "_model_module": "@jupyter-widgets/controls",
            "_model_module_version": "1.5.0",
            "_model_name": "HTMLModel",
            "_view_count": null,
            "_view_module": "@jupyter-widgets/controls",
            "_view_module_version": "1.5.0",
            "_view_name": "HTMLView",
            "description": "",
            "description_tooltip": null,
            "layout": "IPY_MODEL_2704bc1dbb584ae19a5c58f9610cc6c6",
            "placeholder": "​",
            "style": "IPY_MODEL_44a2e6864aa947e59e8783695d0dec5c",
            "value": " 983k/983k [00:00&lt;00:00, 3.08MB/s]"
          }
        },
        "e860d572bfd848d38dbebf8166af2832": {
          "model_module": "@jupyter-widgets/base",
          "model_name": "LayoutModel",
          "model_module_version": "1.2.0",
          "state": {
            "_model_module": "@jupyter-widgets/base",
            "_model_module_version": "1.2.0",
            "_model_name": "LayoutModel",
            "_view_count": null,
            "_view_module": "@jupyter-widgets/base",
            "_view_module_version": "1.2.0",
            "_view_name": "LayoutView",
            "align_content": null,
            "align_items": null,
            "align_self": null,
            "border": null,
            "bottom": null,
            "display": null,
            "flex": null,
            "flex_flow": null,
            "grid_area": null,
            "grid_auto_columns": null,
            "grid_auto_flow": null,
            "grid_auto_rows": null,
            "grid_column": null,
            "grid_gap": null,
            "grid_row": null,
            "grid_template_areas": null,
            "grid_template_columns": null,
            "grid_template_rows": null,
            "height": null,
            "justify_content": null,
            "justify_items": null,
            "left": null,
            "margin": null,
            "max_height": null,
            "max_width": null,
            "min_height": null,
            "min_width": null,
            "object_fit": null,
            "object_position": null,
            "order": null,
            "overflow": null,
            "overflow_x": null,
            "overflow_y": null,
            "padding": null,
            "right": null,
            "top": null,
            "visibility": null,
            "width": null
          }
        },
        "bab0b31488bc400f8ca9a7703922b344": {
          "model_module": "@jupyter-widgets/base",
          "model_name": "LayoutModel",
          "model_module_version": "1.2.0",
          "state": {
            "_model_module": "@jupyter-widgets/base",
            "_model_module_version": "1.2.0",
            "_model_name": "LayoutModel",
            "_view_count": null,
            "_view_module": "@jupyter-widgets/base",
            "_view_module_version": "1.2.0",
            "_view_name": "LayoutView",
            "align_content": null,
            "align_items": null,
            "align_self": null,
            "border": null,
            "bottom": null,
            "display": null,
            "flex": null,
            "flex_flow": null,
            "grid_area": null,
            "grid_auto_columns": null,
            "grid_auto_flow": null,
            "grid_auto_rows": null,
            "grid_column": null,
            "grid_gap": null,
            "grid_row": null,
            "grid_template_areas": null,
            "grid_template_columns": null,
            "grid_template_rows": null,
            "height": null,
            "justify_content": null,
            "justify_items": null,
            "left": null,
            "margin": null,
            "max_height": null,
            "max_width": null,
            "min_height": null,
            "min_width": null,
            "object_fit": null,
            "object_position": null,
            "order": null,
            "overflow": null,
            "overflow_x": null,
            "overflow_y": null,
            "padding": null,
            "right": null,
            "top": null,
            "visibility": null,
            "width": null
          }
        },
        "911bdb2fc33f4af8a6b1b5eca1778579": {
          "model_module": "@jupyter-widgets/controls",
          "model_name": "DescriptionStyleModel",
          "model_module_version": "1.5.0",
          "state": {
            "_model_module": "@jupyter-widgets/controls",
            "_model_module_version": "1.5.0",
            "_model_name": "DescriptionStyleModel",
            "_view_count": null,
            "_view_module": "@jupyter-widgets/base",
            "_view_module_version": "1.2.0",
            "_view_name": "StyleView",
            "description_width": ""
          }
        },
        "cad6bee0f40c40cc90e57ee82c1278f7": {
          "model_module": "@jupyter-widgets/base",
          "model_name": "LayoutModel",
          "model_module_version": "1.2.0",
          "state": {
            "_model_module": "@jupyter-widgets/base",
            "_model_module_version": "1.2.0",
            "_model_name": "LayoutModel",
            "_view_count": null,
            "_view_module": "@jupyter-widgets/base",
            "_view_module_version": "1.2.0",
            "_view_name": "LayoutView",
            "align_content": null,
            "align_items": null,
            "align_self": null,
            "border": null,
            "bottom": null,
            "display": null,
            "flex": null,
            "flex_flow": null,
            "grid_area": null,
            "grid_auto_columns": null,
            "grid_auto_flow": null,
            "grid_auto_rows": null,
            "grid_column": null,
            "grid_gap": null,
            "grid_row": null,
            "grid_template_areas": null,
            "grid_template_columns": null,
            "grid_template_rows": null,
            "height": null,
            "justify_content": null,
            "justify_items": null,
            "left": null,
            "margin": null,
            "max_height": null,
            "max_width": null,
            "min_height": null,
            "min_width": null,
            "object_fit": null,
            "object_position": null,
            "order": null,
            "overflow": null,
            "overflow_x": null,
            "overflow_y": null,
            "padding": null,
            "right": null,
            "top": null,
            "visibility": null,
            "width": null
          }
        },
        "ffe5548ae2714a8ba014c05346936f21": {
          "model_module": "@jupyter-widgets/controls",
          "model_name": "ProgressStyleModel",
          "model_module_version": "1.5.0",
          "state": {
            "_model_module": "@jupyter-widgets/controls",
            "_model_module_version": "1.5.0",
            "_model_name": "ProgressStyleModel",
            "_view_count": null,
            "_view_module": "@jupyter-widgets/base",
            "_view_module_version": "1.2.0",
            "_view_name": "StyleView",
            "bar_color": null,
            "description_width": ""
          }
        },
        "2704bc1dbb584ae19a5c58f9610cc6c6": {
          "model_module": "@jupyter-widgets/base",
          "model_name": "LayoutModel",
          "model_module_version": "1.2.0",
          "state": {
            "_model_module": "@jupyter-widgets/base",
            "_model_module_version": "1.2.0",
            "_model_name": "LayoutModel",
            "_view_count": null,
            "_view_module": "@jupyter-widgets/base",
            "_view_module_version": "1.2.0",
            "_view_name": "LayoutView",
            "align_content": null,
            "align_items": null,
            "align_self": null,
            "border": null,
            "bottom": null,
            "display": null,
            "flex": null,
            "flex_flow": null,
            "grid_area": null,
            "grid_auto_columns": null,
            "grid_auto_flow": null,
            "grid_auto_rows": null,
            "grid_column": null,
            "grid_gap": null,
            "grid_row": null,
            "grid_template_areas": null,
            "grid_template_columns": null,
            "grid_template_rows": null,
            "height": null,
            "justify_content": null,
            "justify_items": null,
            "left": null,
            "margin": null,
            "max_height": null,
            "max_width": null,
            "min_height": null,
            "min_width": null,
            "object_fit": null,
            "object_position": null,
            "order": null,
            "overflow": null,
            "overflow_x": null,
            "overflow_y": null,
            "padding": null,
            "right": null,
            "top": null,
            "visibility": null,
            "width": null
          }
        },
        "44a2e6864aa947e59e8783695d0dec5c": {
          "model_module": "@jupyter-widgets/controls",
          "model_name": "DescriptionStyleModel",
          "model_module_version": "1.5.0",
          "state": {
            "_model_module": "@jupyter-widgets/controls",
            "_model_module_version": "1.5.0",
            "_model_name": "DescriptionStyleModel",
            "_view_count": null,
            "_view_module": "@jupyter-widgets/base",
            "_view_module_version": "1.2.0",
            "_view_name": "StyleView",
            "description_width": ""
          }
        },
        "ff710f6f09ce4005a1483f6aa4cdc7ee": {
          "model_module": "@jupyter-widgets/controls",
          "model_name": "HBoxModel",
          "model_module_version": "1.5.0",
          "state": {
            "_dom_classes": [],
            "_model_module": "@jupyter-widgets/controls",
            "_model_module_version": "1.5.0",
            "_model_name": "HBoxModel",
            "_view_count": null,
            "_view_module": "@jupyter-widgets/controls",
            "_view_module_version": "1.5.0",
            "_view_name": "HBoxView",
            "box_style": "",
            "children": [
              "IPY_MODEL_dc6678cd46404bee8b2125a7bac86e33",
              "IPY_MODEL_d3142fc8adb64cfcaae1d30d70090076",
              "IPY_MODEL_bef722c18b6e41b1969de303f35aebc2"
            ],
            "layout": "IPY_MODEL_de693c0434df45a5a508d64f8ca84adf"
          }
        },
        "dc6678cd46404bee8b2125a7bac86e33": {
          "model_module": "@jupyter-widgets/controls",
          "model_name": "HTMLModel",
          "model_module_version": "1.5.0",
          "state": {
            "_dom_classes": [],
            "_model_module": "@jupyter-widgets/controls",
            "_model_module_version": "1.5.0",
            "_model_name": "HTMLModel",
            "_view_count": null,
            "_view_module": "@jupyter-widgets/controls",
            "_view_module_version": "1.5.0",
            "_view_name": "HTMLView",
            "description": "",
            "description_tooltip": null,
            "layout": "IPY_MODEL_e4e0892fadb142b8b3ddac16454ed8a4",
            "placeholder": "​",
            "style": "IPY_MODEL_35b795330ff2430a9235a94f1f1adc5d",
            "value": "Generating train split: 100%"
          }
        },
        "d3142fc8adb64cfcaae1d30d70090076": {
          "model_module": "@jupyter-widgets/controls",
          "model_name": "FloatProgressModel",
          "model_module_version": "1.5.0",
          "state": {
            "_dom_classes": [],
            "_model_module": "@jupyter-widgets/controls",
            "_model_module_version": "1.5.0",
            "_model_name": "FloatProgressModel",
            "_view_count": null,
            "_view_module": "@jupyter-widgets/controls",
            "_view_module_version": "1.5.0",
            "_view_name": "ProgressView",
            "bar_style": "",
            "description": "",
            "description_tooltip": null,
            "layout": "IPY_MODEL_bd034814f5324f609baa45f9be723405",
            "max": 14041,
            "min": 0,
            "orientation": "horizontal",
            "style": "IPY_MODEL_eef3a63476ac4701b8ee9410d5c85d87",
            "value": 14041
          }
        },
        "bef722c18b6e41b1969de303f35aebc2": {
          "model_module": "@jupyter-widgets/controls",
          "model_name": "HTMLModel",
          "model_module_version": "1.5.0",
          "state": {
            "_dom_classes": [],
            "_model_module": "@jupyter-widgets/controls",
            "_model_module_version": "1.5.0",
            "_model_name": "HTMLModel",
            "_view_count": null,
            "_view_module": "@jupyter-widgets/controls",
            "_view_module_version": "1.5.0",
            "_view_name": "HTMLView",
            "description": "",
            "description_tooltip": null,
            "layout": "IPY_MODEL_3c05fbaf564549609cccf31a40cd271b",
            "placeholder": "​",
            "style": "IPY_MODEL_110ceaf607d14356a820a9d0fd172d16",
            "value": " 14041/14041 [00:25&lt;00:00, 1307.26 examples/s]"
          }
        },
        "de693c0434df45a5a508d64f8ca84adf": {
          "model_module": "@jupyter-widgets/base",
          "model_name": "LayoutModel",
          "model_module_version": "1.2.0",
          "state": {
            "_model_module": "@jupyter-widgets/base",
            "_model_module_version": "1.2.0",
            "_model_name": "LayoutModel",
            "_view_count": null,
            "_view_module": "@jupyter-widgets/base",
            "_view_module_version": "1.2.0",
            "_view_name": "LayoutView",
            "align_content": null,
            "align_items": null,
            "align_self": null,
            "border": null,
            "bottom": null,
            "display": null,
            "flex": null,
            "flex_flow": null,
            "grid_area": null,
            "grid_auto_columns": null,
            "grid_auto_flow": null,
            "grid_auto_rows": null,
            "grid_column": null,
            "grid_gap": null,
            "grid_row": null,
            "grid_template_areas": null,
            "grid_template_columns": null,
            "grid_template_rows": null,
            "height": null,
            "justify_content": null,
            "justify_items": null,
            "left": null,
            "margin": null,
            "max_height": null,
            "max_width": null,
            "min_height": null,
            "min_width": null,
            "object_fit": null,
            "object_position": null,
            "order": null,
            "overflow": null,
            "overflow_x": null,
            "overflow_y": null,
            "padding": null,
            "right": null,
            "top": null,
            "visibility": "hidden",
            "width": null
          }
        },
        "e4e0892fadb142b8b3ddac16454ed8a4": {
          "model_module": "@jupyter-widgets/base",
          "model_name": "LayoutModel",
          "model_module_version": "1.2.0",
          "state": {
            "_model_module": "@jupyter-widgets/base",
            "_model_module_version": "1.2.0",
            "_model_name": "LayoutModel",
            "_view_count": null,
            "_view_module": "@jupyter-widgets/base",
            "_view_module_version": "1.2.0",
            "_view_name": "LayoutView",
            "align_content": null,
            "align_items": null,
            "align_self": null,
            "border": null,
            "bottom": null,
            "display": null,
            "flex": null,
            "flex_flow": null,
            "grid_area": null,
            "grid_auto_columns": null,
            "grid_auto_flow": null,
            "grid_auto_rows": null,
            "grid_column": null,
            "grid_gap": null,
            "grid_row": null,
            "grid_template_areas": null,
            "grid_template_columns": null,
            "grid_template_rows": null,
            "height": null,
            "justify_content": null,
            "justify_items": null,
            "left": null,
            "margin": null,
            "max_height": null,
            "max_width": null,
            "min_height": null,
            "min_width": null,
            "object_fit": null,
            "object_position": null,
            "order": null,
            "overflow": null,
            "overflow_x": null,
            "overflow_y": null,
            "padding": null,
            "right": null,
            "top": null,
            "visibility": null,
            "width": null
          }
        },
        "35b795330ff2430a9235a94f1f1adc5d": {
          "model_module": "@jupyter-widgets/controls",
          "model_name": "DescriptionStyleModel",
          "model_module_version": "1.5.0",
          "state": {
            "_model_module": "@jupyter-widgets/controls",
            "_model_module_version": "1.5.0",
            "_model_name": "DescriptionStyleModel",
            "_view_count": null,
            "_view_module": "@jupyter-widgets/base",
            "_view_module_version": "1.2.0",
            "_view_name": "StyleView",
            "description_width": ""
          }
        },
        "bd034814f5324f609baa45f9be723405": {
          "model_module": "@jupyter-widgets/base",
          "model_name": "LayoutModel",
          "model_module_version": "1.2.0",
          "state": {
            "_model_module": "@jupyter-widgets/base",
            "_model_module_version": "1.2.0",
            "_model_name": "LayoutModel",
            "_view_count": null,
            "_view_module": "@jupyter-widgets/base",
            "_view_module_version": "1.2.0",
            "_view_name": "LayoutView",
            "align_content": null,
            "align_items": null,
            "align_self": null,
            "border": null,
            "bottom": null,
            "display": null,
            "flex": null,
            "flex_flow": null,
            "grid_area": null,
            "grid_auto_columns": null,
            "grid_auto_flow": null,
            "grid_auto_rows": null,
            "grid_column": null,
            "grid_gap": null,
            "grid_row": null,
            "grid_template_areas": null,
            "grid_template_columns": null,
            "grid_template_rows": null,
            "height": null,
            "justify_content": null,
            "justify_items": null,
            "left": null,
            "margin": null,
            "max_height": null,
            "max_width": null,
            "min_height": null,
            "min_width": null,
            "object_fit": null,
            "object_position": null,
            "order": null,
            "overflow": null,
            "overflow_x": null,
            "overflow_y": null,
            "padding": null,
            "right": null,
            "top": null,
            "visibility": null,
            "width": null
          }
        },
        "eef3a63476ac4701b8ee9410d5c85d87": {
          "model_module": "@jupyter-widgets/controls",
          "model_name": "ProgressStyleModel",
          "model_module_version": "1.5.0",
          "state": {
            "_model_module": "@jupyter-widgets/controls",
            "_model_module_version": "1.5.0",
            "_model_name": "ProgressStyleModel",
            "_view_count": null,
            "_view_module": "@jupyter-widgets/base",
            "_view_module_version": "1.2.0",
            "_view_name": "StyleView",
            "bar_color": null,
            "description_width": ""
          }
        },
        "3c05fbaf564549609cccf31a40cd271b": {
          "model_module": "@jupyter-widgets/base",
          "model_name": "LayoutModel",
          "model_module_version": "1.2.0",
          "state": {
            "_model_module": "@jupyter-widgets/base",
            "_model_module_version": "1.2.0",
            "_model_name": "LayoutModel",
            "_view_count": null,
            "_view_module": "@jupyter-widgets/base",
            "_view_module_version": "1.2.0",
            "_view_name": "LayoutView",
            "align_content": null,
            "align_items": null,
            "align_self": null,
            "border": null,
            "bottom": null,
            "display": null,
            "flex": null,
            "flex_flow": null,
            "grid_area": null,
            "grid_auto_columns": null,
            "grid_auto_flow": null,
            "grid_auto_rows": null,
            "grid_column": null,
            "grid_gap": null,
            "grid_row": null,
            "grid_template_areas": null,
            "grid_template_columns": null,
            "grid_template_rows": null,
            "height": null,
            "justify_content": null,
            "justify_items": null,
            "left": null,
            "margin": null,
            "max_height": null,
            "max_width": null,
            "min_height": null,
            "min_width": null,
            "object_fit": null,
            "object_position": null,
            "order": null,
            "overflow": null,
            "overflow_x": null,
            "overflow_y": null,
            "padding": null,
            "right": null,
            "top": null,
            "visibility": null,
            "width": null
          }
        },
        "110ceaf607d14356a820a9d0fd172d16": {
          "model_module": "@jupyter-widgets/controls",
          "model_name": "DescriptionStyleModel",
          "model_module_version": "1.5.0",
          "state": {
            "_model_module": "@jupyter-widgets/controls",
            "_model_module_version": "1.5.0",
            "_model_name": "DescriptionStyleModel",
            "_view_count": null,
            "_view_module": "@jupyter-widgets/base",
            "_view_module_version": "1.2.0",
            "_view_name": "StyleView",
            "description_width": ""
          }
        },
        "80bddcda1a984abfb0b79e4d33242e81": {
          "model_module": "@jupyter-widgets/controls",
          "model_name": "HBoxModel",
          "model_module_version": "1.5.0",
          "state": {
            "_dom_classes": [],
            "_model_module": "@jupyter-widgets/controls",
            "_model_module_version": "1.5.0",
            "_model_name": "HBoxModel",
            "_view_count": null,
            "_view_module": "@jupyter-widgets/controls",
            "_view_module_version": "1.5.0",
            "_view_name": "HBoxView",
            "box_style": "",
            "children": [
              "IPY_MODEL_3fa97ddb146549d1843ed6bde2f934e8",
              "IPY_MODEL_161980b0c10a4eb3ac7fedc13b99a5ba",
              "IPY_MODEL_3803abe64b484ed5ba1e8782c2b90ca2"
            ],
            "layout": "IPY_MODEL_f081fe5da509484897bbab9d7306b88f"
          }
        },
        "3fa97ddb146549d1843ed6bde2f934e8": {
          "model_module": "@jupyter-widgets/controls",
          "model_name": "HTMLModel",
          "model_module_version": "1.5.0",
          "state": {
            "_dom_classes": [],
            "_model_module": "@jupyter-widgets/controls",
            "_model_module_version": "1.5.0",
            "_model_name": "HTMLModel",
            "_view_count": null,
            "_view_module": "@jupyter-widgets/controls",
            "_view_module_version": "1.5.0",
            "_view_name": "HTMLView",
            "description": "",
            "description_tooltip": null,
            "layout": "IPY_MODEL_173bec3d42ab410a905b6399a8d217ec",
            "placeholder": "​",
            "style": "IPY_MODEL_73a5a7a47b6f40d3aaf811f519e10188",
            "value": "Generating validation split: 100%"
          }
        },
        "161980b0c10a4eb3ac7fedc13b99a5ba": {
          "model_module": "@jupyter-widgets/controls",
          "model_name": "FloatProgressModel",
          "model_module_version": "1.5.0",
          "state": {
            "_dom_classes": [],
            "_model_module": "@jupyter-widgets/controls",
            "_model_module_version": "1.5.0",
            "_model_name": "FloatProgressModel",
            "_view_count": null,
            "_view_module": "@jupyter-widgets/controls",
            "_view_module_version": "1.5.0",
            "_view_name": "ProgressView",
            "bar_style": "",
            "description": "",
            "description_tooltip": null,
            "layout": "IPY_MODEL_531cfca0b83e4de89f1ef87556c285df",
            "max": 3250,
            "min": 0,
            "orientation": "horizontal",
            "style": "IPY_MODEL_b4a5f9f60bee40608c9e122ef7d75aab",
            "value": 3250
          }
        },
        "3803abe64b484ed5ba1e8782c2b90ca2": {
          "model_module": "@jupyter-widgets/controls",
          "model_name": "HTMLModel",
          "model_module_version": "1.5.0",
          "state": {
            "_dom_classes": [],
            "_model_module": "@jupyter-widgets/controls",
            "_model_module_version": "1.5.0",
            "_model_name": "HTMLModel",
            "_view_count": null,
            "_view_module": "@jupyter-widgets/controls",
            "_view_module_version": "1.5.0",
            "_view_name": "HTMLView",
            "description": "",
            "description_tooltip": null,
            "layout": "IPY_MODEL_4046fa94a4904637902f1f476e821336",
            "placeholder": "​",
            "style": "IPY_MODEL_e4fefdeba2bd4c4aa5794301aeecddf0",
            "value": " 3250/3250 [00:20&lt;00:00, 1350.27 examples/s]"
          }
        },
        "f081fe5da509484897bbab9d7306b88f": {
          "model_module": "@jupyter-widgets/base",
          "model_name": "LayoutModel",
          "model_module_version": "1.2.0",
          "state": {
            "_model_module": "@jupyter-widgets/base",
            "_model_module_version": "1.2.0",
            "_model_name": "LayoutModel",
            "_view_count": null,
            "_view_module": "@jupyter-widgets/base",
            "_view_module_version": "1.2.0",
            "_view_name": "LayoutView",
            "align_content": null,
            "align_items": null,
            "align_self": null,
            "border": null,
            "bottom": null,
            "display": null,
            "flex": null,
            "flex_flow": null,
            "grid_area": null,
            "grid_auto_columns": null,
            "grid_auto_flow": null,
            "grid_auto_rows": null,
            "grid_column": null,
            "grid_gap": null,
            "grid_row": null,
            "grid_template_areas": null,
            "grid_template_columns": null,
            "grid_template_rows": null,
            "height": null,
            "justify_content": null,
            "justify_items": null,
            "left": null,
            "margin": null,
            "max_height": null,
            "max_width": null,
            "min_height": null,
            "min_width": null,
            "object_fit": null,
            "object_position": null,
            "order": null,
            "overflow": null,
            "overflow_x": null,
            "overflow_y": null,
            "padding": null,
            "right": null,
            "top": null,
            "visibility": "hidden",
            "width": null
          }
        },
        "173bec3d42ab410a905b6399a8d217ec": {
          "model_module": "@jupyter-widgets/base",
          "model_name": "LayoutModel",
          "model_module_version": "1.2.0",
          "state": {
            "_model_module": "@jupyter-widgets/base",
            "_model_module_version": "1.2.0",
            "_model_name": "LayoutModel",
            "_view_count": null,
            "_view_module": "@jupyter-widgets/base",
            "_view_module_version": "1.2.0",
            "_view_name": "LayoutView",
            "align_content": null,
            "align_items": null,
            "align_self": null,
            "border": null,
            "bottom": null,
            "display": null,
            "flex": null,
            "flex_flow": null,
            "grid_area": null,
            "grid_auto_columns": null,
            "grid_auto_flow": null,
            "grid_auto_rows": null,
            "grid_column": null,
            "grid_gap": null,
            "grid_row": null,
            "grid_template_areas": null,
            "grid_template_columns": null,
            "grid_template_rows": null,
            "height": null,
            "justify_content": null,
            "justify_items": null,
            "left": null,
            "margin": null,
            "max_height": null,
            "max_width": null,
            "min_height": null,
            "min_width": null,
            "object_fit": null,
            "object_position": null,
            "order": null,
            "overflow": null,
            "overflow_x": null,
            "overflow_y": null,
            "padding": null,
            "right": null,
            "top": null,
            "visibility": null,
            "width": null
          }
        },
        "73a5a7a47b6f40d3aaf811f519e10188": {
          "model_module": "@jupyter-widgets/controls",
          "model_name": "DescriptionStyleModel",
          "model_module_version": "1.5.0",
          "state": {
            "_model_module": "@jupyter-widgets/controls",
            "_model_module_version": "1.5.0",
            "_model_name": "DescriptionStyleModel",
            "_view_count": null,
            "_view_module": "@jupyter-widgets/base",
            "_view_module_version": "1.2.0",
            "_view_name": "StyleView",
            "description_width": ""
          }
        },
        "531cfca0b83e4de89f1ef87556c285df": {
          "model_module": "@jupyter-widgets/base",
          "model_name": "LayoutModel",
          "model_module_version": "1.2.0",
          "state": {
            "_model_module": "@jupyter-widgets/base",
            "_model_module_version": "1.2.0",
            "_model_name": "LayoutModel",
            "_view_count": null,
            "_view_module": "@jupyter-widgets/base",
            "_view_module_version": "1.2.0",
            "_view_name": "LayoutView",
            "align_content": null,
            "align_items": null,
            "align_self": null,
            "border": null,
            "bottom": null,
            "display": null,
            "flex": null,
            "flex_flow": null,
            "grid_area": null,
            "grid_auto_columns": null,
            "grid_auto_flow": null,
            "grid_auto_rows": null,
            "grid_column": null,
            "grid_gap": null,
            "grid_row": null,
            "grid_template_areas": null,
            "grid_template_columns": null,
            "grid_template_rows": null,
            "height": null,
            "justify_content": null,
            "justify_items": null,
            "left": null,
            "margin": null,
            "max_height": null,
            "max_width": null,
            "min_height": null,
            "min_width": null,
            "object_fit": null,
            "object_position": null,
            "order": null,
            "overflow": null,
            "overflow_x": null,
            "overflow_y": null,
            "padding": null,
            "right": null,
            "top": null,
            "visibility": null,
            "width": null
          }
        },
        "b4a5f9f60bee40608c9e122ef7d75aab": {
          "model_module": "@jupyter-widgets/controls",
          "model_name": "ProgressStyleModel",
          "model_module_version": "1.5.0",
          "state": {
            "_model_module": "@jupyter-widgets/controls",
            "_model_module_version": "1.5.0",
            "_model_name": "ProgressStyleModel",
            "_view_count": null,
            "_view_module": "@jupyter-widgets/base",
            "_view_module_version": "1.2.0",
            "_view_name": "StyleView",
            "bar_color": null,
            "description_width": ""
          }
        },
        "4046fa94a4904637902f1f476e821336": {
          "model_module": "@jupyter-widgets/base",
          "model_name": "LayoutModel",
          "model_module_version": "1.2.0",
          "state": {
            "_model_module": "@jupyter-widgets/base",
            "_model_module_version": "1.2.0",
            "_model_name": "LayoutModel",
            "_view_count": null,
            "_view_module": "@jupyter-widgets/base",
            "_view_module_version": "1.2.0",
            "_view_name": "LayoutView",
            "align_content": null,
            "align_items": null,
            "align_self": null,
            "border": null,
            "bottom": null,
            "display": null,
            "flex": null,
            "flex_flow": null,
            "grid_area": null,
            "grid_auto_columns": null,
            "grid_auto_flow": null,
            "grid_auto_rows": null,
            "grid_column": null,
            "grid_gap": null,
            "grid_row": null,
            "grid_template_areas": null,
            "grid_template_columns": null,
            "grid_template_rows": null,
            "height": null,
            "justify_content": null,
            "justify_items": null,
            "left": null,
            "margin": null,
            "max_height": null,
            "max_width": null,
            "min_height": null,
            "min_width": null,
            "object_fit": null,
            "object_position": null,
            "order": null,
            "overflow": null,
            "overflow_x": null,
            "overflow_y": null,
            "padding": null,
            "right": null,
            "top": null,
            "visibility": null,
            "width": null
          }
        },
        "e4fefdeba2bd4c4aa5794301aeecddf0": {
          "model_module": "@jupyter-widgets/controls",
          "model_name": "DescriptionStyleModel",
          "model_module_version": "1.5.0",
          "state": {
            "_model_module": "@jupyter-widgets/controls",
            "_model_module_version": "1.5.0",
            "_model_name": "DescriptionStyleModel",
            "_view_count": null,
            "_view_module": "@jupyter-widgets/base",
            "_view_module_version": "1.2.0",
            "_view_name": "StyleView",
            "description_width": ""
          }
        },
        "6f37043faad84687b073cc3faa81c31b": {
          "model_module": "@jupyter-widgets/controls",
          "model_name": "HBoxModel",
          "model_module_version": "1.5.0",
          "state": {
            "_dom_classes": [],
            "_model_module": "@jupyter-widgets/controls",
            "_model_module_version": "1.5.0",
            "_model_name": "HBoxModel",
            "_view_count": null,
            "_view_module": "@jupyter-widgets/controls",
            "_view_module_version": "1.5.0",
            "_view_name": "HBoxView",
            "box_style": "",
            "children": [
              "IPY_MODEL_4bf5921786f544e1ba3906d75fce5826",
              "IPY_MODEL_5c86b511636e4b8d9f80bc1c32c7e29b",
              "IPY_MODEL_50684b49782643dea09211aff38b47b1"
            ],
            "layout": "IPY_MODEL_c49709faf049416f956bd5917e3afbb2"
          }
        },
        "4bf5921786f544e1ba3906d75fce5826": {
          "model_module": "@jupyter-widgets/controls",
          "model_name": "HTMLModel",
          "model_module_version": "1.5.0",
          "state": {
            "_dom_classes": [],
            "_model_module": "@jupyter-widgets/controls",
            "_model_module_version": "1.5.0",
            "_model_name": "HTMLModel",
            "_view_count": null,
            "_view_module": "@jupyter-widgets/controls",
            "_view_module_version": "1.5.0",
            "_view_name": "HTMLView",
            "description": "",
            "description_tooltip": null,
            "layout": "IPY_MODEL_d2bdcd8b80e145a59019c81b718e64cd",
            "placeholder": "​",
            "style": "IPY_MODEL_1eebc57543b540e0b4ae368274b5b2a7",
            "value": "Generating test split: 100%"
          }
        },
        "5c86b511636e4b8d9f80bc1c32c7e29b": {
          "model_module": "@jupyter-widgets/controls",
          "model_name": "FloatProgressModel",
          "model_module_version": "1.5.0",
          "state": {
            "_dom_classes": [],
            "_model_module": "@jupyter-widgets/controls",
            "_model_module_version": "1.5.0",
            "_model_name": "FloatProgressModel",
            "_view_count": null,
            "_view_module": "@jupyter-widgets/controls",
            "_view_module_version": "1.5.0",
            "_view_name": "ProgressView",
            "bar_style": "",
            "description": "",
            "description_tooltip": null,
            "layout": "IPY_MODEL_81120a0372e6443d95ec95c2a923540e",
            "max": 3453,
            "min": 0,
            "orientation": "horizontal",
            "style": "IPY_MODEL_bdf52322c6564aecbc5214144548b09e",
            "value": 3453
          }
        },
        "50684b49782643dea09211aff38b47b1": {
          "model_module": "@jupyter-widgets/controls",
          "model_name": "HTMLModel",
          "model_module_version": "1.5.0",
          "state": {
            "_dom_classes": [],
            "_model_module": "@jupyter-widgets/controls",
            "_model_module_version": "1.5.0",
            "_model_name": "HTMLModel",
            "_view_count": null,
            "_view_module": "@jupyter-widgets/controls",
            "_view_module_version": "1.5.0",
            "_view_name": "HTMLView",
            "description": "",
            "description_tooltip": null,
            "layout": "IPY_MODEL_ce92ff7aaa104b5ab3781c30b20f8b6c",
            "placeholder": "​",
            "style": "IPY_MODEL_204af41423504df1b91cd231887bc4e9",
            "value": " 3453/3453 [00:18&lt;00:00, 1370.96 examples/s]"
          }
        },
        "c49709faf049416f956bd5917e3afbb2": {
          "model_module": "@jupyter-widgets/base",
          "model_name": "LayoutModel",
          "model_module_version": "1.2.0",
          "state": {
            "_model_module": "@jupyter-widgets/base",
            "_model_module_version": "1.2.0",
            "_model_name": "LayoutModel",
            "_view_count": null,
            "_view_module": "@jupyter-widgets/base",
            "_view_module_version": "1.2.0",
            "_view_name": "LayoutView",
            "align_content": null,
            "align_items": null,
            "align_self": null,
            "border": null,
            "bottom": null,
            "display": null,
            "flex": null,
            "flex_flow": null,
            "grid_area": null,
            "grid_auto_columns": null,
            "grid_auto_flow": null,
            "grid_auto_rows": null,
            "grid_column": null,
            "grid_gap": null,
            "grid_row": null,
            "grid_template_areas": null,
            "grid_template_columns": null,
            "grid_template_rows": null,
            "height": null,
            "justify_content": null,
            "justify_items": null,
            "left": null,
            "margin": null,
            "max_height": null,
            "max_width": null,
            "min_height": null,
            "min_width": null,
            "object_fit": null,
            "object_position": null,
            "order": null,
            "overflow": null,
            "overflow_x": null,
            "overflow_y": null,
            "padding": null,
            "right": null,
            "top": null,
            "visibility": "hidden",
            "width": null
          }
        },
        "d2bdcd8b80e145a59019c81b718e64cd": {
          "model_module": "@jupyter-widgets/base",
          "model_name": "LayoutModel",
          "model_module_version": "1.2.0",
          "state": {
            "_model_module": "@jupyter-widgets/base",
            "_model_module_version": "1.2.0",
            "_model_name": "LayoutModel",
            "_view_count": null,
            "_view_module": "@jupyter-widgets/base",
            "_view_module_version": "1.2.0",
            "_view_name": "LayoutView",
            "align_content": null,
            "align_items": null,
            "align_self": null,
            "border": null,
            "bottom": null,
            "display": null,
            "flex": null,
            "flex_flow": null,
            "grid_area": null,
            "grid_auto_columns": null,
            "grid_auto_flow": null,
            "grid_auto_rows": null,
            "grid_column": null,
            "grid_gap": null,
            "grid_row": null,
            "grid_template_areas": null,
            "grid_template_columns": null,
            "grid_template_rows": null,
            "height": null,
            "justify_content": null,
            "justify_items": null,
            "left": null,
            "margin": null,
            "max_height": null,
            "max_width": null,
            "min_height": null,
            "min_width": null,
            "object_fit": null,
            "object_position": null,
            "order": null,
            "overflow": null,
            "overflow_x": null,
            "overflow_y": null,
            "padding": null,
            "right": null,
            "top": null,
            "visibility": null,
            "width": null
          }
        },
        "1eebc57543b540e0b4ae368274b5b2a7": {
          "model_module": "@jupyter-widgets/controls",
          "model_name": "DescriptionStyleModel",
          "model_module_version": "1.5.0",
          "state": {
            "_model_module": "@jupyter-widgets/controls",
            "_model_module_version": "1.5.0",
            "_model_name": "DescriptionStyleModel",
            "_view_count": null,
            "_view_module": "@jupyter-widgets/base",
            "_view_module_version": "1.2.0",
            "_view_name": "StyleView",
            "description_width": ""
          }
        },
        "81120a0372e6443d95ec95c2a923540e": {
          "model_module": "@jupyter-widgets/base",
          "model_name": "LayoutModel",
          "model_module_version": "1.2.0",
          "state": {
            "_model_module": "@jupyter-widgets/base",
            "_model_module_version": "1.2.0",
            "_model_name": "LayoutModel",
            "_view_count": null,
            "_view_module": "@jupyter-widgets/base",
            "_view_module_version": "1.2.0",
            "_view_name": "LayoutView",
            "align_content": null,
            "align_items": null,
            "align_self": null,
            "border": null,
            "bottom": null,
            "display": null,
            "flex": null,
            "flex_flow": null,
            "grid_area": null,
            "grid_auto_columns": null,
            "grid_auto_flow": null,
            "grid_auto_rows": null,
            "grid_column": null,
            "grid_gap": null,
            "grid_row": null,
            "grid_template_areas": null,
            "grid_template_columns": null,
            "grid_template_rows": null,
            "height": null,
            "justify_content": null,
            "justify_items": null,
            "left": null,
            "margin": null,
            "max_height": null,
            "max_width": null,
            "min_height": null,
            "min_width": null,
            "object_fit": null,
            "object_position": null,
            "order": null,
            "overflow": null,
            "overflow_x": null,
            "overflow_y": null,
            "padding": null,
            "right": null,
            "top": null,
            "visibility": null,
            "width": null
          }
        },
        "bdf52322c6564aecbc5214144548b09e": {
          "model_module": "@jupyter-widgets/controls",
          "model_name": "ProgressStyleModel",
          "model_module_version": "1.5.0",
          "state": {
            "_model_module": "@jupyter-widgets/controls",
            "_model_module_version": "1.5.0",
            "_model_name": "ProgressStyleModel",
            "_view_count": null,
            "_view_module": "@jupyter-widgets/base",
            "_view_module_version": "1.2.0",
            "_view_name": "StyleView",
            "bar_color": null,
            "description_width": ""
          }
        },
        "ce92ff7aaa104b5ab3781c30b20f8b6c": {
          "model_module": "@jupyter-widgets/base",
          "model_name": "LayoutModel",
          "model_module_version": "1.2.0",
          "state": {
            "_model_module": "@jupyter-widgets/base",
            "_model_module_version": "1.2.0",
            "_model_name": "LayoutModel",
            "_view_count": null,
            "_view_module": "@jupyter-widgets/base",
            "_view_module_version": "1.2.0",
            "_view_name": "LayoutView",
            "align_content": null,
            "align_items": null,
            "align_self": null,
            "border": null,
            "bottom": null,
            "display": null,
            "flex": null,
            "flex_flow": null,
            "grid_area": null,
            "grid_auto_columns": null,
            "grid_auto_flow": null,
            "grid_auto_rows": null,
            "grid_column": null,
            "grid_gap": null,
            "grid_row": null,
            "grid_template_areas": null,
            "grid_template_columns": null,
            "grid_template_rows": null,
            "height": null,
            "justify_content": null,
            "justify_items": null,
            "left": null,
            "margin": null,
            "max_height": null,
            "max_width": null,
            "min_height": null,
            "min_width": null,
            "object_fit": null,
            "object_position": null,
            "order": null,
            "overflow": null,
            "overflow_x": null,
            "overflow_y": null,
            "padding": null,
            "right": null,
            "top": null,
            "visibility": null,
            "width": null
          }
        },
        "204af41423504df1b91cd231887bc4e9": {
          "model_module": "@jupyter-widgets/controls",
          "model_name": "DescriptionStyleModel",
          "model_module_version": "1.5.0",
          "state": {
            "_model_module": "@jupyter-widgets/controls",
            "_model_module_version": "1.5.0",
            "_model_name": "DescriptionStyleModel",
            "_view_count": null,
            "_view_module": "@jupyter-widgets/base",
            "_view_module_version": "1.2.0",
            "_view_name": "StyleView",
            "description_width": ""
          }
        },
        "2303941fc3c2438c808eeb5fe40c1010": {
          "model_module": "@jupyter-widgets/controls",
          "model_name": "HBoxModel",
          "model_module_version": "1.5.0",
          "state": {
            "_dom_classes": [],
            "_model_module": "@jupyter-widgets/controls",
            "_model_module_version": "1.5.0",
            "_model_name": "HBoxModel",
            "_view_count": null,
            "_view_module": "@jupyter-widgets/controls",
            "_view_module_version": "1.5.0",
            "_view_name": "HBoxView",
            "box_style": "",
            "children": [
              "IPY_MODEL_cad11c0969ae4b929bb79fc5e113fceb",
              "IPY_MODEL_bc67cfad5f994bccbe2d2b0ccdbeb33f",
              "IPY_MODEL_e8c644bbdde14b46b56b147d2efde2f9"
            ],
            "layout": "IPY_MODEL_6a0a75fa1f7d4a6ba8fc968ffafdd8a9"
          }
        },
        "cad11c0969ae4b929bb79fc5e113fceb": {
          "model_module": "@jupyter-widgets/controls",
          "model_name": "HTMLModel",
          "model_module_version": "1.5.0",
          "state": {
            "_dom_classes": [],
            "_model_module": "@jupyter-widgets/controls",
            "_model_module_version": "1.5.0",
            "_model_name": "HTMLModel",
            "_view_count": null,
            "_view_module": "@jupyter-widgets/controls",
            "_view_module_version": "1.5.0",
            "_view_name": "HTMLView",
            "description": "",
            "description_tooltip": null,
            "layout": "IPY_MODEL_306445879cfd4b26847ead9360b17c39",
            "placeholder": "​",
            "style": "IPY_MODEL_e674808bd69a43dba20f05a9bff946fe",
            "value": "100%"
          }
        },
        "bc67cfad5f994bccbe2d2b0ccdbeb33f": {
          "model_module": "@jupyter-widgets/controls",
          "model_name": "FloatProgressModel",
          "model_module_version": "1.5.0",
          "state": {
            "_dom_classes": [],
            "_model_module": "@jupyter-widgets/controls",
            "_model_module_version": "1.5.0",
            "_model_name": "FloatProgressModel",
            "_view_count": null,
            "_view_module": "@jupyter-widgets/controls",
            "_view_module_version": "1.5.0",
            "_view_name": "ProgressView",
            "bar_style": "success",
            "description": "",
            "description_tooltip": null,
            "layout": "IPY_MODEL_ce92ffec05e34c71bc597c283c12c001",
            "max": 3,
            "min": 0,
            "orientation": "horizontal",
            "style": "IPY_MODEL_64637ba13648480e8745177527672f09",
            "value": 3
          }
        },
        "e8c644bbdde14b46b56b147d2efde2f9": {
          "model_module": "@jupyter-widgets/controls",
          "model_name": "HTMLModel",
          "model_module_version": "1.5.0",
          "state": {
            "_dom_classes": [],
            "_model_module": "@jupyter-widgets/controls",
            "_model_module_version": "1.5.0",
            "_model_name": "HTMLModel",
            "_view_count": null,
            "_view_module": "@jupyter-widgets/controls",
            "_view_module_version": "1.5.0",
            "_view_name": "HTMLView",
            "description": "",
            "description_tooltip": null,
            "layout": "IPY_MODEL_3d131244c053457e9def11c7faa3e6b2",
            "placeholder": "​",
            "style": "IPY_MODEL_383f5eefb8aa46ec9d8e77469d958757",
            "value": " 3/3 [00:00&lt;00:00, 38.68it/s]"
          }
        },
        "6a0a75fa1f7d4a6ba8fc968ffafdd8a9": {
          "model_module": "@jupyter-widgets/base",
          "model_name": "LayoutModel",
          "model_module_version": "1.2.0",
          "state": {
            "_model_module": "@jupyter-widgets/base",
            "_model_module_version": "1.2.0",
            "_model_name": "LayoutModel",
            "_view_count": null,
            "_view_module": "@jupyter-widgets/base",
            "_view_module_version": "1.2.0",
            "_view_name": "LayoutView",
            "align_content": null,
            "align_items": null,
            "align_self": null,
            "border": null,
            "bottom": null,
            "display": null,
            "flex": null,
            "flex_flow": null,
            "grid_area": null,
            "grid_auto_columns": null,
            "grid_auto_flow": null,
            "grid_auto_rows": null,
            "grid_column": null,
            "grid_gap": null,
            "grid_row": null,
            "grid_template_areas": null,
            "grid_template_columns": null,
            "grid_template_rows": null,
            "height": null,
            "justify_content": null,
            "justify_items": null,
            "left": null,
            "margin": null,
            "max_height": null,
            "max_width": null,
            "min_height": null,
            "min_width": null,
            "object_fit": null,
            "object_position": null,
            "order": null,
            "overflow": null,
            "overflow_x": null,
            "overflow_y": null,
            "padding": null,
            "right": null,
            "top": null,
            "visibility": null,
            "width": null
          }
        },
        "306445879cfd4b26847ead9360b17c39": {
          "model_module": "@jupyter-widgets/base",
          "model_name": "LayoutModel",
          "model_module_version": "1.2.0",
          "state": {
            "_model_module": "@jupyter-widgets/base",
            "_model_module_version": "1.2.0",
            "_model_name": "LayoutModel",
            "_view_count": null,
            "_view_module": "@jupyter-widgets/base",
            "_view_module_version": "1.2.0",
            "_view_name": "LayoutView",
            "align_content": null,
            "align_items": null,
            "align_self": null,
            "border": null,
            "bottom": null,
            "display": null,
            "flex": null,
            "flex_flow": null,
            "grid_area": null,
            "grid_auto_columns": null,
            "grid_auto_flow": null,
            "grid_auto_rows": null,
            "grid_column": null,
            "grid_gap": null,
            "grid_row": null,
            "grid_template_areas": null,
            "grid_template_columns": null,
            "grid_template_rows": null,
            "height": null,
            "justify_content": null,
            "justify_items": null,
            "left": null,
            "margin": null,
            "max_height": null,
            "max_width": null,
            "min_height": null,
            "min_width": null,
            "object_fit": null,
            "object_position": null,
            "order": null,
            "overflow": null,
            "overflow_x": null,
            "overflow_y": null,
            "padding": null,
            "right": null,
            "top": null,
            "visibility": null,
            "width": null
          }
        },
        "e674808bd69a43dba20f05a9bff946fe": {
          "model_module": "@jupyter-widgets/controls",
          "model_name": "DescriptionStyleModel",
          "model_module_version": "1.5.0",
          "state": {
            "_model_module": "@jupyter-widgets/controls",
            "_model_module_version": "1.5.0",
            "_model_name": "DescriptionStyleModel",
            "_view_count": null,
            "_view_module": "@jupyter-widgets/base",
            "_view_module_version": "1.2.0",
            "_view_name": "StyleView",
            "description_width": ""
          }
        },
        "ce92ffec05e34c71bc597c283c12c001": {
          "model_module": "@jupyter-widgets/base",
          "model_name": "LayoutModel",
          "model_module_version": "1.2.0",
          "state": {
            "_model_module": "@jupyter-widgets/base",
            "_model_module_version": "1.2.0",
            "_model_name": "LayoutModel",
            "_view_count": null,
            "_view_module": "@jupyter-widgets/base",
            "_view_module_version": "1.2.0",
            "_view_name": "LayoutView",
            "align_content": null,
            "align_items": null,
            "align_self": null,
            "border": null,
            "bottom": null,
            "display": null,
            "flex": null,
            "flex_flow": null,
            "grid_area": null,
            "grid_auto_columns": null,
            "grid_auto_flow": null,
            "grid_auto_rows": null,
            "grid_column": null,
            "grid_gap": null,
            "grid_row": null,
            "grid_template_areas": null,
            "grid_template_columns": null,
            "grid_template_rows": null,
            "height": null,
            "justify_content": null,
            "justify_items": null,
            "left": null,
            "margin": null,
            "max_height": null,
            "max_width": null,
            "min_height": null,
            "min_width": null,
            "object_fit": null,
            "object_position": null,
            "order": null,
            "overflow": null,
            "overflow_x": null,
            "overflow_y": null,
            "padding": null,
            "right": null,
            "top": null,
            "visibility": null,
            "width": null
          }
        },
        "64637ba13648480e8745177527672f09": {
          "model_module": "@jupyter-widgets/controls",
          "model_name": "ProgressStyleModel",
          "model_module_version": "1.5.0",
          "state": {
            "_model_module": "@jupyter-widgets/controls",
            "_model_module_version": "1.5.0",
            "_model_name": "ProgressStyleModel",
            "_view_count": null,
            "_view_module": "@jupyter-widgets/base",
            "_view_module_version": "1.2.0",
            "_view_name": "StyleView",
            "bar_color": null,
            "description_width": ""
          }
        },
        "3d131244c053457e9def11c7faa3e6b2": {
          "model_module": "@jupyter-widgets/base",
          "model_name": "LayoutModel",
          "model_module_version": "1.2.0",
          "state": {
            "_model_module": "@jupyter-widgets/base",
            "_model_module_version": "1.2.0",
            "_model_name": "LayoutModel",
            "_view_count": null,
            "_view_module": "@jupyter-widgets/base",
            "_view_module_version": "1.2.0",
            "_view_name": "LayoutView",
            "align_content": null,
            "align_items": null,
            "align_self": null,
            "border": null,
            "bottom": null,
            "display": null,
            "flex": null,
            "flex_flow": null,
            "grid_area": null,
            "grid_auto_columns": null,
            "grid_auto_flow": null,
            "grid_auto_rows": null,
            "grid_column": null,
            "grid_gap": null,
            "grid_row": null,
            "grid_template_areas": null,
            "grid_template_columns": null,
            "grid_template_rows": null,
            "height": null,
            "justify_content": null,
            "justify_items": null,
            "left": null,
            "margin": null,
            "max_height": null,
            "max_width": null,
            "min_height": null,
            "min_width": null,
            "object_fit": null,
            "object_position": null,
            "order": null,
            "overflow": null,
            "overflow_x": null,
            "overflow_y": null,
            "padding": null,
            "right": null,
            "top": null,
            "visibility": null,
            "width": null
          }
        },
        "383f5eefb8aa46ec9d8e77469d958757": {
          "model_module": "@jupyter-widgets/controls",
          "model_name": "DescriptionStyleModel",
          "model_module_version": "1.5.0",
          "state": {
            "_model_module": "@jupyter-widgets/controls",
            "_model_module_version": "1.5.0",
            "_model_name": "DescriptionStyleModel",
            "_view_count": null,
            "_view_module": "@jupyter-widgets/base",
            "_view_module_version": "1.2.0",
            "_view_name": "StyleView",
            "description_width": ""
          }
        }
      }
    }
  },
  "nbformat": 4,
  "nbformat_minor": 0
}